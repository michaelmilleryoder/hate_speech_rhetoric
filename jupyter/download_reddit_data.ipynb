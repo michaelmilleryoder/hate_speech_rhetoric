{
 "cells": [
  {
   "cell_type": "markdown",
   "id": "6b540e5b-48aa-4b7b-8f16-895b0bd2104d",
   "metadata": {},
   "source": [
    "# Estimate number of posts available in r/AgainstHateSubreddits"
   ]
  },
  {
   "cell_type": "code",
   "execution_count": 1,
   "id": "e13f7287-6a38-426c-8a9c-53719ef0c2f5",
   "metadata": {},
   "outputs": [],
   "source": [
    "import pandas as pd\n",
    "from psaw import PushshiftAPI\n",
    "\n",
    "api = PushshiftAPI()"
   ]
  },
  {
   "cell_type": "code",
   "execution_count": 6,
   "id": "ca9a3d32-15cf-4394-93a9-d5ac9f81f810",
   "metadata": {},
   "outputs": [],
   "source": [
    "posts = api.search_submissions(subreddit='AgainstHateSubreddits')"
   ]
  },
  {
   "cell_type": "code",
   "execution_count": 7,
   "id": "3b20b547-a774-46b7-a735-5655e83ed14f",
   "metadata": {},
   "outputs": [
    {
     "data": {
      "text/plain": [
       "35748"
      ]
     },
     "execution_count": 7,
     "metadata": {},
     "output_type": "execute_result"
    }
   ],
   "source": [
    "post_list = [post.d_ for post in posts]\n",
    "len(post_list)\n",
    "# post_df = pd.DataFrame(post_list)\n",
    "# post_df.size"
   ]
  }
 ],
 "metadata": {
  "kernelspec": {
   "display_name": "Python 3 (ipykernel)",
   "language": "python",
   "name": "python3"
  },
  "language_info": {
   "codemirror_mode": {
    "name": "ipython",
    "version": 3
   },
   "file_extension": ".py",
   "mimetype": "text/x-python",
   "name": "python",
   "nbconvert_exporter": "python",
   "pygments_lexer": "ipython3",
   "version": "3.9.7"
  }
 },
 "nbformat": 4,
 "nbformat_minor": 5
}
