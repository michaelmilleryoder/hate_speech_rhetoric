{
 "cells": [
  {
   "cell_type": "markdown",
   "id": "845c56e1-6c1c-488d-8160-4912fe64c741",
   "metadata": {
    "tags": []
   },
   "source": [
    "# Estimate number of user-indicated hate speech tweets"
   ]
  },
  {
   "cell_type": "code",
   "execution_count": 1,
   "id": "12abbdc3-6372-47f0-8e0e-b217b5b930a9",
   "metadata": {},
   "outputs": [
    {
     "ename": "ModuleNotFoundError",
     "evalue": "No module named 'tweepy'",
     "output_type": "error",
     "traceback": [
      "\u001b[0;31m---------------------------------------------------------------------------\u001b[0m",
      "\u001b[0;31mModuleNotFoundError\u001b[0m                       Traceback (most recent call last)",
      "\u001b[0;32m/tmp/ipykernel_21825/1351397424.py\u001b[0m in \u001b[0;36m<module>\u001b[0;34m\u001b[0m\n\u001b[0;32m----> 1\u001b[0;31m \u001b[0;32mimport\u001b[0m \u001b[0mtweepy\u001b[0m\u001b[0;34m\u001b[0m\u001b[0;34m\u001b[0m\u001b[0m\n\u001b[0m\u001b[1;32m      2\u001b[0m \u001b[0;32mimport\u001b[0m \u001b[0mpandas\u001b[0m \u001b[0;32mas\u001b[0m \u001b[0mpd\u001b[0m\u001b[0;34m\u001b[0m\u001b[0;34m\u001b[0m\u001b[0m\n",
      "\u001b[0;31mModuleNotFoundError\u001b[0m: No module named 'tweepy'"
     ]
    }
   ],
   "source": [
    "import tweepy\n",
    "import pandas as pd"
   ]
  },
  {
   "cell_type": "code",
   "execution_count": 3,
   "id": "2c6d6486-f0cf-45dc-ba63-c3ceeb9f8110",
   "metadata": {},
   "outputs": [
    {
     "ename": "NameError",
     "evalue": "name 'pd' is not defined",
     "output_type": "error",
     "traceback": [
      "\u001b[0;31m---------------------------------------------------------------------------\u001b[0m",
      "\u001b[0;31mNameError\u001b[0m                                 Traceback (most recent call last)",
      "\u001b[0;32m/tmp/ipykernel_21825/153765762.py\u001b[0m in \u001b[0;36m<module>\u001b[0;34m\u001b[0m\n\u001b[1;32m      1\u001b[0m \u001b[0;31m# Load authentication\u001b[0m\u001b[0;34m\u001b[0m\u001b[0;34m\u001b[0m\u001b[0m\n\u001b[0;32m----> 2\u001b[0;31m \u001b[0mkeys\u001b[0m \u001b[0;34m=\u001b[0m \u001b[0mpd\u001b[0m\u001b[0;34m.\u001b[0m\u001b[0mread_csv\u001b[0m\u001b[0;34m(\u001b[0m\u001b[0;34m'/storage2/mamille3/tweepy_oauth.txt'\u001b[0m\u001b[0;34m,\u001b[0m \u001b[0mindex_col\u001b[0m\u001b[0;34m=\u001b[0m\u001b[0;34m'name'\u001b[0m\u001b[0;34m)\u001b[0m\u001b[0;34m.\u001b[0m\u001b[0mto_dict\u001b[0m\u001b[0;34m(\u001b[0m\u001b[0;34m)\u001b[0m\u001b[0;34m[\u001b[0m\u001b[0;34m'key'\u001b[0m\u001b[0;34m]\u001b[0m\u001b[0;34m\u001b[0m\u001b[0;34m\u001b[0m\u001b[0m\n\u001b[0m\u001b[1;32m      3\u001b[0m \u001b[0;31m# keys\u001b[0m\u001b[0;34m\u001b[0m\u001b[0;34m\u001b[0m\u001b[0m\n",
      "\u001b[0;31mNameError\u001b[0m: name 'pd' is not defined"
     ]
    }
   ],
   "source": [
    "# Load authentication\n",
    "keys = pd.read_csv('/storage2/mamille3/tweepy_oauth.txt', index_col='name').to_dict()['key']\n",
    "# keys"
   ]
  },
  {
   "cell_type": "code",
   "execution_count": 10,
   "id": "0f9db127-6387-4efb-977a-58063558fc40",
   "metadata": {},
   "outputs": [],
   "source": [
    "auth = tweepy.OAuthHandler(keys[\"consumer_key\"], keys['consumer_secret'])\n",
    "auth.set_access_token(keys['access_token'], keys['access_secret'])"
   ]
  },
  {
   "cell_type": "code",
   "execution_count": 11,
   "id": "fc7ab23e-fe07-4f7a-864e-30bc4b60e37e",
   "metadata": {},
   "outputs": [],
   "source": [
    "api = tweepy.API(auth)"
   ]
  },
  {
   "cell_type": "code",
   "execution_count": 20,
   "id": "994c0258-5e95-4925-8527-7ef2e7ae1d32",
   "metadata": {},
   "outputs": [
    {
     "data": {
      "text/plain": [
       "15"
      ]
     },
     "execution_count": 20,
     "metadata": {},
     "output_type": "execute_result"
    }
   ],
   "source": [
    "fetched = api.search_tweets('tw hate speech')\n",
    "# type(fetched)\n",
    "len(fetched)"
   ]
  },
  {
   "cell_type": "code",
   "execution_count": 24,
   "id": "c5555759-00a7-4eaf-a5ca-c89b8bc5475f",
   "metadata": {},
   "outputs": [
    {
     "name": "stdout",
     "output_type": "stream",
     "text": [
      "1486372675811516422\n",
      "RT @cerottin: tw // nsfw , hate speech ?\n",
      "\n",
      "mi sento quasi in dovere di condividere questi screen con voi per ricordarvi che purtroppo questi…\n",
      "{'hashtags': [], 'symbols': [], 'user_mentions': [{'screen_name': 'cerottin', 'name': 'ً', 'id': 1408322464355061766, 'id_str': '1408322464355061766', 'indices': [3, 12]}], 'urls': []}\n",
      "\n",
      "1486336824670830593\n",
      "RT @cerottin: tw // nsfw , hate speech ?\n",
      "\n",
      "mi sento quasi in dovere di condividere questi screen con voi per ricordarvi che purtroppo questi…\n",
      "{'hashtags': [], 'symbols': [], 'user_mentions': [{'screen_name': 'cerottin', 'name': 'ً', 'id': 1408322464355061766, 'id_str': '1408322464355061766', 'indices': [3, 12]}], 'urls': []}\n",
      "\n",
      "1486328080478216201\n",
      "RT @cerottin: tw // nsfw , hate speech ?\n",
      "\n",
      "mi sento quasi in dovere di condividere questi screen con voi per ricordarvi che purtroppo questi…\n",
      "{'hashtags': [], 'symbols': [], 'user_mentions': [{'screen_name': 'cerottin', 'name': 'ً', 'id': 1408322464355061766, 'id_str': '1408322464355061766', 'indices': [3, 12]}], 'urls': []}\n",
      "\n",
      "1486297413505671172\n",
      "RT @cerottin: tw // nsfw , hate speech ?\n",
      "\n",
      "mi sento quasi in dovere di condividere questi screen con voi per ricordarvi che purtroppo questi…\n",
      "{'hashtags': [], 'symbols': [], 'user_mentions': [{'screen_name': 'cerottin', 'name': 'ً', 'id': 1408322464355061766, 'id_str': '1408322464355061766', 'indices': [3, 12]}], 'urls': []}\n",
      "\n",
      "1486295587817467904\n",
      "RT @cerottin: tw // nsfw , hate speech ?\n",
      "\n",
      "mi sento quasi in dovere di condividere questi screen con voi per ricordarvi che purtroppo questi…\n",
      "{'hashtags': [], 'symbols': [], 'user_mentions': [{'screen_name': 'cerottin', 'name': 'ً', 'id': 1408322464355061766, 'id_str': '1408322464355061766', 'indices': [3, 12]}], 'urls': []}\n",
      "\n",
      "1486295363619274754\n",
      "RT @cerottin: tw // nsfw , hate speech ?\n",
      "\n",
      "mi sento quasi in dovere di condividere questi screen con voi per ricordarvi che purtroppo questi…\n",
      "{'hashtags': [], 'symbols': [], 'user_mentions': [{'screen_name': 'cerottin', 'name': 'ً', 'id': 1408322464355061766, 'id_str': '1408322464355061766', 'indices': [3, 12]}], 'urls': []}\n",
      "\n",
      "1486292874757087232\n",
      "RT @cerottin: tw // nsfw , hate speech ?\n",
      "\n",
      "mi sento quasi in dovere di condividere questi screen con voi per ricordarvi che purtroppo questi…\n",
      "{'hashtags': [], 'symbols': [], 'user_mentions': [{'screen_name': 'cerottin', 'name': 'ً', 'id': 1408322464355061766, 'id_str': '1408322464355061766', 'indices': [3, 12]}], 'urls': []}\n",
      "\n",
      "1486292358064971776\n",
      "RT @cerottin: tw // nsfw , hate speech ?\n",
      "\n",
      "mi sento quasi in dovere di condividere questi screen con voi per ricordarvi che purtroppo questi…\n",
      "{'hashtags': [], 'symbols': [], 'user_mentions': [{'screen_name': 'cerottin', 'name': 'ً', 'id': 1408322464355061766, 'id_str': '1408322464355061766', 'indices': [3, 12]}], 'urls': []}\n",
      "\n",
      "1486288328555126786\n",
      "RT @cerottin: tw // nsfw , hate speech ?\n",
      "\n",
      "mi sento quasi in dovere di condividere questi screen con voi per ricordarvi che purtroppo questi…\n",
      "{'hashtags': [], 'symbols': [], 'user_mentions': [{'screen_name': 'cerottin', 'name': 'ً', 'id': 1408322464355061766, 'id_str': '1408322464355061766', 'indices': [3, 12]}], 'urls': []}\n",
      "\n",
      "1486277590721888256\n",
      "Terima kasih untuk tweet ini. Aku baru saja kembali ke tw. Sekecewa2nya aku. Aku lebih takut sama hate speech di ma… https://t.co/TjdHrU7CoC\n",
      "{'hashtags': [], 'symbols': [], 'user_mentions': [], 'urls': [{'url': 'https://t.co/TjdHrU7CoC', 'expanded_url': 'https://twitter.com/i/web/status/1486277590721888256', 'display_url': 'twitter.com/i/web/status/1…', 'indices': [117, 140]}]}\n",
      "\n",
      "1486272637076602880\n",
      "RT @cerottin: tw // nsfw , hate speech ?\n",
      "\n",
      "mi sento quasi in dovere di condividere questi screen con voi per ricordarvi che purtroppo questi…\n",
      "{'hashtags': [], 'symbols': [], 'user_mentions': [{'screen_name': 'cerottin', 'name': 'ً', 'id': 1408322464355061766, 'id_str': '1408322464355061766', 'indices': [3, 12]}], 'urls': []}\n",
      "\n",
      "1486271884023021569\n",
      "RT @cerottin: tw // nsfw , hate speech ?\n",
      "\n",
      "mi sento quasi in dovere di condividere questi screen con voi per ricordarvi che purtroppo questi…\n",
      "{'hashtags': [], 'symbols': [], 'user_mentions': [{'screen_name': 'cerottin', 'name': 'ً', 'id': 1408322464355061766, 'id_str': '1408322464355061766', 'indices': [3, 12]}], 'urls': []}\n",
      "\n",
      "1486270876186259458\n",
      "RT @cerottin: tw // nsfw , hate speech ?\n",
      "\n",
      "mi sento quasi in dovere di condividere questi screen con voi per ricordarvi che purtroppo questi…\n",
      "{'hashtags': [], 'symbols': [], 'user_mentions': [{'screen_name': 'cerottin', 'name': 'ً', 'id': 1408322464355061766, 'id_str': '1408322464355061766', 'indices': [3, 12]}], 'urls': []}\n",
      "\n",
      "1486269646646956035\n",
      "RT @cerottin: tw // nsfw , hate speech ?\n",
      "\n",
      "mi sento quasi in dovere di condividere questi screen con voi per ricordarvi che purtroppo questi…\n",
      "{'hashtags': [], 'symbols': [], 'user_mentions': [{'screen_name': 'cerottin', 'name': 'ً', 'id': 1408322464355061766, 'id_str': '1408322464355061766', 'indices': [3, 12]}], 'urls': []}\n",
      "\n",
      "1486261629893369862\n",
      "RT @cerottin: tw // nsfw , hate speech ?\n",
      "\n",
      "mi sento quasi in dovere di condividere questi screen con voi per ricordarvi che purtroppo questi…\n",
      "{'hashtags': [], 'symbols': [], 'user_mentions': [{'screen_name': 'cerottin', 'name': 'ً', 'id': 1408322464355061766, 'id_str': '1408322464355061766', 'indices': [3, 12]}], 'urls': []}\n",
      "\n"
     ]
    }
   ],
   "source": [
    "for tweet in fetched:\n",
    "    print(tweet.id)\n",
    "    print(tweet.text)\n",
    "    print(tweet.entities)\n",
    "    print()"
   ]
  },
  {
   "cell_type": "markdown",
   "id": "92895644-3a7a-488e-af6a-c28897927538",
   "metadata": {
    "tags": []
   },
   "source": [
    "## Paginated\n",
    "Probably doesn't work for the searches"
   ]
  },
  {
   "cell_type": "code",
   "execution_count": null,
   "id": "ef68486a-10be-4fea-8959-2c8b9066de01",
   "metadata": {},
   "outputs": [],
   "source": [
    "for page in tweepy.Cursor(api.search_tweets, 'tw hate speech'):"
   ]
  }
 ],
 "metadata": {
  "kernelspec": {
   "display_name": "Python 3 (ipykernel)",
   "language": "python",
   "name": "python3"
  },
  "language_info": {
   "codemirror_mode": {
    "name": "ipython",
    "version": 3
   },
   "file_extension": ".py",
   "mimetype": "text/x-python",
   "name": "python",
   "nbconvert_exporter": "python",
   "pygments_lexer": "ipython3",
   "version": "3.9.10"
  }
 },
 "nbformat": 4,
 "nbformat_minor": 5
}
