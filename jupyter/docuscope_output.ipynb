{
 "cells": [
  {
   "cell_type": "markdown",
   "id": "46155001-a466-4d7f-971a-0723c96ce74e",
   "metadata": {
    "tags": []
   },
   "source": [
    "# Process DocuScope output"
   ]
  },
  {
   "cell_type": "markdown",
   "id": "1b924da5-55a0-4355-989d-d71240540c13",
   "metadata": {},
   "source": [
    "## Load cluster counts"
   ]
  },
  {
   "cell_type": "code",
   "execution_count": 1,
   "id": "bc9156ef-ac50-45cf-af90-22deab883d61",
   "metadata": {},
   "outputs": [
    {
     "name": "stdout",
     "output_type": "stream",
     "text": [
      "{'InquiryPositive'}\n"
     ]
    },
    {
     "data": {
      "text/html": [
       "<div>\n",
       "<style scoped>\n",
       "    .dataframe tbody tr th:only-of-type {\n",
       "        vertical-align: middle;\n",
       "    }\n",
       "\n",
       "    .dataframe tbody tr th {\n",
       "        vertical-align: top;\n",
       "    }\n",
       "\n",
       "    .dataframe thead th {\n",
       "        text-align: right;\n",
       "    }\n",
       "</style>\n",
       "<table border=\"1\" class=\"dataframe\">\n",
       "  <thead>\n",
       "    <tr style=\"text-align: right;\">\n",
       "      <th></th>\n",
       "      <th>comment_id</th>\n",
       "      <th>sentence_id</th>\n",
       "      <th>text</th>\n",
       "      <th>user_id</th>\n",
       "      <th>subforum_id</th>\n",
       "      <th>num_contexts</th>\n",
       "      <th>label</th>\n",
       "      <th>Tokens</th>\n",
       "      <th>AcademicTerms</th>\n",
       "      <th>AcademicWritingMoves</th>\n",
       "      <th>...</th>\n",
       "      <th>ResponsiblityNegative</th>\n",
       "      <th>ResponsiblityPositive</th>\n",
       "      <th>Strategic</th>\n",
       "      <th>StrategicNegative</th>\n",
       "      <th>StrategicPositive</th>\n",
       "      <th>Uncertainty</th>\n",
       "      <th>Updates</th>\n",
       "      <th>UpdatesNegative</th>\n",
       "      <th>UpdatesPositive</th>\n",
       "      <th>Group</th>\n",
       "    </tr>\n",
       "  </thead>\n",
       "  <tbody>\n",
       "    <tr>\n",
       "      <th>12834217_1</th>\n",
       "      <td>12834217</td>\n",
       "      <td>1</td>\n",
       "      <td>As of March 13th , 2014 , the booklet had been...</td>\n",
       "      <td>572066</td>\n",
       "      <td>1346</td>\n",
       "      <td>0</td>\n",
       "      <td>noHate</td>\n",
       "      <td>18</td>\n",
       "      <td>1</td>\n",
       "      <td>0</td>\n",
       "      <td>...</td>\n",
       "      <td>0</td>\n",
       "      <td>0</td>\n",
       "      <td>0</td>\n",
       "      <td>0</td>\n",
       "      <td>0</td>\n",
       "      <td>0</td>\n",
       "      <td>0</td>\n",
       "      <td>0</td>\n",
       "      <td>0</td>\n",
       "      <td>NaN</td>\n",
       "    </tr>\n",
       "    <tr>\n",
       "      <th>12834217_2</th>\n",
       "      <td>12834217</td>\n",
       "      <td>2</td>\n",
       "      <td>In order to help increase the booklets downloa...</td>\n",
       "      <td>572066</td>\n",
       "      <td>1346</td>\n",
       "      <td>0</td>\n",
       "      <td>noHate</td>\n",
       "      <td>36</td>\n",
       "      <td>1</td>\n",
       "      <td>0</td>\n",
       "      <td>...</td>\n",
       "      <td>0</td>\n",
       "      <td>0</td>\n",
       "      <td>1</td>\n",
       "      <td>0</td>\n",
       "      <td>0</td>\n",
       "      <td>0</td>\n",
       "      <td>0</td>\n",
       "      <td>0</td>\n",
       "      <td>0</td>\n",
       "      <td>NaN</td>\n",
       "    </tr>\n",
       "    <tr>\n",
       "      <th>12834217_3</th>\n",
       "      <td>12834217</td>\n",
       "      <td>3</td>\n",
       "      <td>( Simply copy and paste the following text int...</td>\n",
       "      <td>572066</td>\n",
       "      <td>1346</td>\n",
       "      <td>0</td>\n",
       "      <td>noHate</td>\n",
       "      <td>16</td>\n",
       "      <td>1</td>\n",
       "      <td>0</td>\n",
       "      <td>...</td>\n",
       "      <td>0</td>\n",
       "      <td>0</td>\n",
       "      <td>0</td>\n",
       "      <td>0</td>\n",
       "      <td>0</td>\n",
       "      <td>0</td>\n",
       "      <td>0</td>\n",
       "      <td>0</td>\n",
       "      <td>0</td>\n",
       "      <td>NaN</td>\n",
       "    </tr>\n",
       "    <tr>\n",
       "      <th>12834217_4</th>\n",
       "      <td>12834217</td>\n",
       "      <td>4</td>\n",
       "      <td>Click below for a FREE download of a colorfull...</td>\n",
       "      <td>572066</td>\n",
       "      <td>1346</td>\n",
       "      <td>0</td>\n",
       "      <td>hate</td>\n",
       "      <td>22</td>\n",
       "      <td>1</td>\n",
       "      <td>0</td>\n",
       "      <td>...</td>\n",
       "      <td>0</td>\n",
       "      <td>0</td>\n",
       "      <td>0</td>\n",
       "      <td>0</td>\n",
       "      <td>0</td>\n",
       "      <td>0</td>\n",
       "      <td>0</td>\n",
       "      <td>0</td>\n",
       "      <td>0</td>\n",
       "      <td>NaN</td>\n",
       "    </tr>\n",
       "    <tr>\n",
       "      <th>12834217_5</th>\n",
       "      <td>12834217</td>\n",
       "      <td>5</td>\n",
       "      <td>Click on the `` DOWNLOAD ( 7.42 MB ) '' green ...</td>\n",
       "      <td>572066</td>\n",
       "      <td>1346</td>\n",
       "      <td>0</td>\n",
       "      <td>noHate</td>\n",
       "      <td>22</td>\n",
       "      <td>0</td>\n",
       "      <td>0</td>\n",
       "      <td>...</td>\n",
       "      <td>0</td>\n",
       "      <td>0</td>\n",
       "      <td>0</td>\n",
       "      <td>0</td>\n",
       "      <td>0</td>\n",
       "      <td>0</td>\n",
       "      <td>0</td>\n",
       "      <td>0</td>\n",
       "      <td>0</td>\n",
       "      <td>NaN</td>\n",
       "    </tr>\n",
       "    <tr>\n",
       "      <th>...</th>\n",
       "      <td>...</td>\n",
       "      <td>...</td>\n",
       "      <td>...</td>\n",
       "      <td>...</td>\n",
       "      <td>...</td>\n",
       "      <td>...</td>\n",
       "      <td>...</td>\n",
       "      <td>...</td>\n",
       "      <td>...</td>\n",
       "      <td>...</td>\n",
       "      <td>...</td>\n",
       "      <td>...</td>\n",
       "      <td>...</td>\n",
       "      <td>...</td>\n",
       "      <td>...</td>\n",
       "      <td>...</td>\n",
       "      <td>...</td>\n",
       "      <td>...</td>\n",
       "      <td>...</td>\n",
       "      <td>...</td>\n",
       "      <td>...</td>\n",
       "    </tr>\n",
       "    <tr>\n",
       "      <th>33677015_1</th>\n",
       "      <td>33677015</td>\n",
       "      <td>1</td>\n",
       "      <td>Apparently he came to the conclusion that his ...</td>\n",
       "      <td>572948</td>\n",
       "      <td>1388</td>\n",
       "      <td>0</td>\n",
       "      <td>noHate</td>\n",
       "      <td>25</td>\n",
       "      <td>0</td>\n",
       "      <td>0</td>\n",
       "      <td>...</td>\n",
       "      <td>0</td>\n",
       "      <td>0</td>\n",
       "      <td>0</td>\n",
       "      <td>0</td>\n",
       "      <td>0</td>\n",
       "      <td>0</td>\n",
       "      <td>0</td>\n",
       "      <td>0</td>\n",
       "      <td>0</td>\n",
       "      <td>NaN</td>\n",
       "    </tr>\n",
       "    <tr>\n",
       "      <th>33677019_1</th>\n",
       "      <td>33677019</td>\n",
       "      <td>1</td>\n",
       "      <td>Wish we at least had a Marine Le Pen to vote f...</td>\n",
       "      <td>735154</td>\n",
       "      <td>1388</td>\n",
       "      <td>0</td>\n",
       "      <td>noHate</td>\n",
       "      <td>15</td>\n",
       "      <td>0</td>\n",
       "      <td>0</td>\n",
       "      <td>...</td>\n",
       "      <td>0</td>\n",
       "      <td>0</td>\n",
       "      <td>1</td>\n",
       "      <td>0</td>\n",
       "      <td>0</td>\n",
       "      <td>0</td>\n",
       "      <td>0</td>\n",
       "      <td>0</td>\n",
       "      <td>0</td>\n",
       "      <td>NaN</td>\n",
       "    </tr>\n",
       "    <tr>\n",
       "      <th>33677019_2</th>\n",
       "      <td>33677019</td>\n",
       "      <td>2</td>\n",
       "      <td>Its like the choices are white genocide candid...</td>\n",
       "      <td>735154</td>\n",
       "      <td>1388</td>\n",
       "      <td>0</td>\n",
       "      <td>noHate</td>\n",
       "      <td>14</td>\n",
       "      <td>0</td>\n",
       "      <td>0</td>\n",
       "      <td>...</td>\n",
       "      <td>0</td>\n",
       "      <td>0</td>\n",
       "      <td>0</td>\n",
       "      <td>0</td>\n",
       "      <td>0</td>\n",
       "      <td>0</td>\n",
       "      <td>0</td>\n",
       "      <td>0</td>\n",
       "      <td>0</td>\n",
       "      <td>NaN</td>\n",
       "    </tr>\n",
       "    <tr>\n",
       "      <th>33677053_1</th>\n",
       "      <td>33677053</td>\n",
       "      <td>1</td>\n",
       "      <td>Why White people used to say that sex was a si...</td>\n",
       "      <td>572266</td>\n",
       "      <td>1388</td>\n",
       "      <td>0</td>\n",
       "      <td>hate</td>\n",
       "      <td>35</td>\n",
       "      <td>2</td>\n",
       "      <td>0</td>\n",
       "      <td>...</td>\n",
       "      <td>0</td>\n",
       "      <td>0</td>\n",
       "      <td>0</td>\n",
       "      <td>0</td>\n",
       "      <td>0</td>\n",
       "      <td>0</td>\n",
       "      <td>0</td>\n",
       "      <td>0</td>\n",
       "      <td>0</td>\n",
       "      <td>NaN</td>\n",
       "    </tr>\n",
       "    <tr>\n",
       "      <th>33677053_2</th>\n",
       "      <td>33677053</td>\n",
       "      <td>2</td>\n",
       "      <td>Now I get it !</td>\n",
       "      <td>572266</td>\n",
       "      <td>1388</td>\n",
       "      <td>0</td>\n",
       "      <td>noHate</td>\n",
       "      <td>5</td>\n",
       "      <td>0</td>\n",
       "      <td>0</td>\n",
       "      <td>...</td>\n",
       "      <td>0</td>\n",
       "      <td>0</td>\n",
       "      <td>0</td>\n",
       "      <td>0</td>\n",
       "      <td>0</td>\n",
       "      <td>0</td>\n",
       "      <td>0</td>\n",
       "      <td>0</td>\n",
       "      <td>0</td>\n",
       "      <td>NaN</td>\n",
       "    </tr>\n",
       "  </tbody>\n",
       "</table>\n",
       "<p>10913 rows × 59 columns</p>\n",
       "</div>"
      ],
      "text/plain": [
       "            comment_id  sentence_id  \\\n",
       "12834217_1    12834217            1   \n",
       "12834217_2    12834217            2   \n",
       "12834217_3    12834217            3   \n",
       "12834217_4    12834217            4   \n",
       "12834217_5    12834217            5   \n",
       "...                ...          ...   \n",
       "33677015_1    33677015            1   \n",
       "33677019_1    33677019            1   \n",
       "33677019_2    33677019            2   \n",
       "33677053_1    33677053            1   \n",
       "33677053_2    33677053            2   \n",
       "\n",
       "                                                         text  user_id  \\\n",
       "12834217_1  As of March 13th , 2014 , the booklet had been...   572066   \n",
       "12834217_2  In order to help increase the booklets downloa...   572066   \n",
       "12834217_3  ( Simply copy and paste the following text int...   572066   \n",
       "12834217_4  Click below for a FREE download of a colorfull...   572066   \n",
       "12834217_5  Click on the `` DOWNLOAD ( 7.42 MB ) '' green ...   572066   \n",
       "...                                                       ...      ...   \n",
       "33677015_1  Apparently he came to the conclusion that his ...   572948   \n",
       "33677019_1  Wish we at least had a Marine Le Pen to vote f...   735154   \n",
       "33677019_2  Its like the choices are white genocide candid...   735154   \n",
       "33677053_1  Why White people used to say that sex was a si...   572266   \n",
       "33677053_2                                     Now I get it !   572266   \n",
       "\n",
       "            subforum_id  num_contexts   label  Tokens  AcademicTerms  \\\n",
       "12834217_1         1346             0  noHate      18              1   \n",
       "12834217_2         1346             0  noHate      36              1   \n",
       "12834217_3         1346             0  noHate      16              1   \n",
       "12834217_4         1346             0    hate      22              1   \n",
       "12834217_5         1346             0  noHate      22              0   \n",
       "...                 ...           ...     ...     ...            ...   \n",
       "33677015_1         1388             0  noHate      25              0   \n",
       "33677019_1         1388             0  noHate      15              0   \n",
       "33677019_2         1388             0  noHate      14              0   \n",
       "33677053_1         1388             0    hate      35              2   \n",
       "33677053_2         1388             0  noHate       5              0   \n",
       "\n",
       "            AcademicWritingMoves  ...  ResponsiblityNegative  \\\n",
       "12834217_1                     0  ...                      0   \n",
       "12834217_2                     0  ...                      0   \n",
       "12834217_3                     0  ...                      0   \n",
       "12834217_4                     0  ...                      0   \n",
       "12834217_5                     0  ...                      0   \n",
       "...                          ...  ...                    ...   \n",
       "33677015_1                     0  ...                      0   \n",
       "33677019_1                     0  ...                      0   \n",
       "33677019_2                     0  ...                      0   \n",
       "33677053_1                     0  ...                      0   \n",
       "33677053_2                     0  ...                      0   \n",
       "\n",
       "            ResponsiblityPositive  Strategic  StrategicNegative  \\\n",
       "12834217_1                      0          0                  0   \n",
       "12834217_2                      0          1                  0   \n",
       "12834217_3                      0          0                  0   \n",
       "12834217_4                      0          0                  0   \n",
       "12834217_5                      0          0                  0   \n",
       "...                           ...        ...                ...   \n",
       "33677015_1                      0          0                  0   \n",
       "33677019_1                      0          1                  0   \n",
       "33677019_2                      0          0                  0   \n",
       "33677053_1                      0          0                  0   \n",
       "33677053_2                      0          0                  0   \n",
       "\n",
       "            StrategicPositive  Uncertainty  Updates  UpdatesNegative  \\\n",
       "12834217_1                  0            0        0                0   \n",
       "12834217_2                  0            0        0                0   \n",
       "12834217_3                  0            0        0                0   \n",
       "12834217_4                  0            0        0                0   \n",
       "12834217_5                  0            0        0                0   \n",
       "...                       ...          ...      ...              ...   \n",
       "33677015_1                  0            0        0                0   \n",
       "33677019_1                  0            0        0                0   \n",
       "33677019_2                  0            0        0                0   \n",
       "33677053_1                  0            0        0                0   \n",
       "33677053_2                  0            0        0                0   \n",
       "\n",
       "            UpdatesPositive  Group  \n",
       "12834217_1                0    NaN  \n",
       "12834217_2                0    NaN  \n",
       "12834217_3                0    NaN  \n",
       "12834217_4                0    NaN  \n",
       "12834217_5                0    NaN  \n",
       "...                     ...    ...  \n",
       "33677015_1                0    NaN  \n",
       "33677019_1                0    NaN  \n",
       "33677019_2                0    NaN  \n",
       "33677053_1                0    NaN  \n",
       "33677053_2                0    NaN  \n",
       "\n",
       "[10913 rows x 59 columns]"
      ]
     },
     "execution_count": 1,
     "metadata": {},
     "output_type": "execute_result"
    }
   ],
   "source": [
    "# Load category counts\n",
    "import pandas as pd\n",
    "\n",
    "csvpath = '/storage2/mamille3/data/hate_speech/degibert2019/docuscope_output/sentences-2022-02-16-212529/csv/CLUSTER_C_sentences.csv'\n",
    "category_counts = pd.read_csv(csvpath, index_col=0)\n",
    "category_counts.index = category_counts.index.str.slice(0,-4)\n",
    "category_counts\n",
    "len(category_counts.columns)\n",
    "\n",
    "old_cols = category_counts.columns\n",
    "\n",
    "# Drop categories that do not occur\n",
    "category_counts = category_counts.loc[:, (category_counts != 0).any(axis=0)] # Is just one category\n",
    "len(category_counts.columns)\n",
    "\n",
    "# Show categories that didn't occur\n",
    "new_cols = category_counts.columns\n",
    "print(set(old_cols) - set(new_cols))\n",
    "\n",
    "# Load sentence splits and annotations\n",
    "annotations_fpath = '/storage2/mamille3/data/hate_speech/degibert2019/combined_data.csv'\n",
    "annotations = pd.read_csv(annotations_fpath).sort_values(['comment_id', 'sentence_id']).set_index('file_id')\n",
    "annotations\n",
    "\n",
    "# Merge DocuScope output with labels, metadata\n",
    "merged = pd.merge(annotations, category_counts, left_index=True, right_index=True)\n",
    "merged"
   ]
  },
  {
   "cell_type": "markdown",
   "id": "922b9e12-bb96-4027-9078-02544dbcdb98",
   "metadata": {},
   "source": [
    "## Visualize DocuScope categories hate/nonhate"
   ]
  },
  {
   "cell_type": "code",
   "execution_count": 12,
   "id": "2232785a-5416-4e57-8347-cfd2e996e0f9",
   "metadata": {},
   "outputs": [
    {
     "data": {
      "text/html": [
       "<div>\n",
       "<style scoped>\n",
       "    .dataframe tbody tr th:only-of-type {\n",
       "        vertical-align: middle;\n",
       "    }\n",
       "\n",
       "    .dataframe tbody tr th {\n",
       "        vertical-align: top;\n",
       "    }\n",
       "\n",
       "    .dataframe thead th {\n",
       "        text-align: right;\n",
       "    }\n",
       "</style>\n",
       "<table border=\"1\" class=\"dataframe\">\n",
       "  <thead>\n",
       "    <tr style=\"text-align: right;\">\n",
       "      <th></th>\n",
       "      <th>label</th>\n",
       "      <th>category</th>\n",
       "      <th>normalized_count</th>\n",
       "    </tr>\n",
       "  </thead>\n",
       "  <tbody>\n",
       "    <tr>\n",
       "      <th>0</th>\n",
       "      <td>hate</td>\n",
       "      <td>Negative</td>\n",
       "      <td>0.048204</td>\n",
       "    </tr>\n",
       "    <tr>\n",
       "      <th>1</th>\n",
       "      <td>noHate</td>\n",
       "      <td>Negative</td>\n",
       "      <td>0.029405</td>\n",
       "    </tr>\n",
       "    <tr>\n",
       "      <th>2</th>\n",
       "      <td>hate</td>\n",
       "      <td>CharacterTraitsTypes</td>\n",
       "      <td>0.039841</td>\n",
       "    </tr>\n",
       "    <tr>\n",
       "      <th>3</th>\n",
       "      <td>noHate</td>\n",
       "      <td>CharacterTraitsTypes</td>\n",
       "      <td>0.028918</td>\n",
       "    </tr>\n",
       "    <tr>\n",
       "      <th>4</th>\n",
       "      <td>hate</td>\n",
       "      <td>Description</td>\n",
       "      <td>0.064495</td>\n",
       "    </tr>\n",
       "    <tr>\n",
       "      <th>5</th>\n",
       "      <td>noHate</td>\n",
       "      <td>Description</td>\n",
       "      <td>0.059332</td>\n",
       "    </tr>\n",
       "    <tr>\n",
       "      <th>6</th>\n",
       "      <td>hate</td>\n",
       "      <td>Reasoning</td>\n",
       "      <td>0.008296</td>\n",
       "    </tr>\n",
       "    <tr>\n",
       "      <th>7</th>\n",
       "      <td>noHate</td>\n",
       "      <td>Reasoning</td>\n",
       "      <td>0.005356</td>\n",
       "    </tr>\n",
       "    <tr>\n",
       "      <th>8</th>\n",
       "      <td>hate</td>\n",
       "      <td>Future</td>\n",
       "      <td>0.005988</td>\n",
       "    </tr>\n",
       "    <tr>\n",
       "      <th>9</th>\n",
       "      <td>noHate</td>\n",
       "      <td>Future</td>\n",
       "      <td>0.003758</td>\n",
       "    </tr>\n",
       "    <tr>\n",
       "      <th>10</th>\n",
       "      <td>hate</td>\n",
       "      <td>ForceStressed</td>\n",
       "      <td>0.022045</td>\n",
       "    </tr>\n",
       "    <tr>\n",
       "      <th>11</th>\n",
       "      <td>noHate</td>\n",
       "      <td>ForceStressed</td>\n",
       "      <td>0.020297</td>\n",
       "    </tr>\n",
       "    <tr>\n",
       "      <th>12</th>\n",
       "      <td>hate</td>\n",
       "      <td>InformationGeneral</td>\n",
       "      <td>0.047535</td>\n",
       "    </tr>\n",
       "    <tr>\n",
       "      <th>13</th>\n",
       "      <td>noHate</td>\n",
       "      <td>InformationGeneral</td>\n",
       "      <td>0.045846</td>\n",
       "    </tr>\n",
       "    <tr>\n",
       "      <th>14</th>\n",
       "      <td>hate</td>\n",
       "      <td>CharacterCognitiveAgency</td>\n",
       "      <td>0.005586</td>\n",
       "    </tr>\n",
       "    <tr>\n",
       "      <th>15</th>\n",
       "      <td>noHate</td>\n",
       "      <td>CharacterCognitiveAgency</td>\n",
       "      <td>0.004342</td>\n",
       "    </tr>\n",
       "    <tr>\n",
       "      <th>16</th>\n",
       "      <td>hate</td>\n",
       "      <td>InformationChangePositive</td>\n",
       "      <td>0.001572</td>\n",
       "    </tr>\n",
       "    <tr>\n",
       "      <th>17</th>\n",
       "      <td>noHate</td>\n",
       "      <td>InformationChangePositive</td>\n",
       "      <td>0.000693</td>\n",
       "    </tr>\n",
       "    <tr>\n",
       "      <th>18</th>\n",
       "      <td>hate</td>\n",
       "      <td>ConfidenceHigh</td>\n",
       "      <td>0.006322</td>\n",
       "    </tr>\n",
       "    <tr>\n",
       "      <th>19</th>\n",
       "      <td>noHate</td>\n",
       "      <td>ConfidenceHigh</td>\n",
       "      <td>0.005666</td>\n",
       "    </tr>\n",
       "  </tbody>\n",
       "</table>\n",
       "</div>"
      ],
      "text/plain": [
       "     label                   category  normalized_count\n",
       "0     hate                   Negative          0.048204\n",
       "1   noHate                   Negative          0.029405\n",
       "2     hate       CharacterTraitsTypes          0.039841\n",
       "3   noHate       CharacterTraitsTypes          0.028918\n",
       "4     hate                Description          0.064495\n",
       "5   noHate                Description          0.059332\n",
       "6     hate                  Reasoning          0.008296\n",
       "7   noHate                  Reasoning          0.005356\n",
       "8     hate                     Future          0.005988\n",
       "9   noHate                     Future          0.003758\n",
       "10    hate              ForceStressed          0.022045\n",
       "11  noHate              ForceStressed          0.020297\n",
       "12    hate         InformationGeneral          0.047535\n",
       "13  noHate         InformationGeneral          0.045846\n",
       "14    hate   CharacterCognitiveAgency          0.005586\n",
       "15  noHate   CharacterCognitiveAgency          0.004342\n",
       "16    hate  InformationChangePositive          0.001572\n",
       "17  noHate  InformationChangePositive          0.000693\n",
       "18    hate             ConfidenceHigh          0.006322\n",
       "19  noHate             ConfidenceHigh          0.005666"
      ]
     },
     "execution_count": 12,
     "metadata": {},
     "output_type": "execute_result"
    }
   ],
   "source": [
    "# Group by hate/nonhate\n",
    "gps = merged.groupby('label').sum()\n",
    "gps\n",
    "\n",
    "# Normalize by token length\n",
    "for col in gps.columns[6:]:\n",
    "    gps[f'mean_{col}'] = gps[col]/gps['Tokens']\n",
    "gps.loc[:, ['Tokens', 'AcademicTerms', 'mean_AcademicTerms']]\n",
    "\n",
    "# Select categories with the biggest discrepancy between hate/nonhate\n",
    "selected = gps.loc[['hate', 'noHate'], :]\n",
    "selected\n",
    "\n",
    "diffs = selected.loc['hate'] - selected.loc['noHate']\n",
    "mean_diffs = diffs[[col for col in diffs.index if col.startswith('mean')]]\n",
    "mean_diffs.sort_values(ascending=False)\n",
    "\n",
    "# Plot top categories with the biggest discrepancies between hate and non-hate\n",
    "topn = 10\n",
    "top_cats = mean_diffs.sort_values(ascending=False)[:topn]\n",
    "top_cats\n",
    "\n",
    "top = selected[top_cats.index]\n",
    "top\n",
    "\n",
    "# Change to long-form df (not actually necessary, but whatever)\n",
    "long_top = pd.melt(top, id_vars=[], value_vars=top.columns, var_name='category', value_name='normalized_count', ignore_index=False).reset_index()\n",
    "long_top['category'] = long_top.category.str.slice(5)\n",
    "long_top"
   ]
  },
  {
   "cell_type": "code",
   "execution_count": 13,
   "id": "ee8a2bb6-3a94-4ca8-8e36-44ac9df7a243",
   "metadata": {},
   "outputs": [
    {
     "data": {
      "application/vnd.plotly.v1+json": {
       "config": {
        "plotlyServerURL": "https://plot.ly"
       },
       "data": [
        {
         "alignmentgroup": "True",
         "hovertemplate": "label=hate<br>category=%{x}<br>normalized_count=%{y}<extra></extra>",
         "legendgroup": "hate",
         "marker": {
          "color": "#636efa",
          "pattern": {
           "shape": ""
          }
         },
         "name": "hate",
         "offsetgroup": "hate",
         "orientation": "v",
         "showlegend": true,
         "textposition": "auto",
         "type": "bar",
         "x": [
          "Negative",
          "CharacterTraitsTypes",
          "Description",
          "Reasoning",
          "Future",
          "ForceStressed",
          "InformationGeneral",
          "CharacterCognitiveAgency",
          "InformationChangePositive",
          "ConfidenceHigh"
         ],
         "xaxis": "x",
         "y": [
          0.048203652906937844,
          0.03984077072322205,
          0.06449454740081621,
          0.00829597912624607,
          0.00598782364354051,
          0.02204455743627484,
          0.04753462233224058,
          0.005586405298722151,
          0.0015722218505385696,
          0.006322338930889141
         ],
         "yaxis": "y"
        },
        {
         "alignmentgroup": "True",
         "hovertemplate": "label=noHate<br>category=%{x}<br>normalized_count=%{y}<extra></extra>",
         "legendgroup": "noHate",
         "marker": {
          "color": "#EF553B",
          "pattern": {
           "shape": ""
          }
         },
         "name": "noHate",
         "offsetgroup": "noHate",
         "orientation": "v",
         "showlegend": true,
         "textposition": "auto",
         "type": "bar",
         "x": [
          "Negative",
          "CharacterTraitsTypes",
          "Description",
          "Reasoning",
          "Future",
          "ForceStressed",
          "InformationGeneral",
          "CharacterCognitiveAgency",
          "InformationChangePositive",
          "ConfidenceHigh"
         ],
         "xaxis": "x",
         "y": [
          0.029405193599945006,
          0.02891825780099793,
          0.05933169493758629,
          0.005356293788417802,
          0.003757998636579763,
          0.02029662983140564,
          0.04584643763498147,
          0.004342321595316251,
          0.0006931674314423038,
          0.005665641237160649
         ],
         "yaxis": "y"
        }
       ],
       "layout": {
        "barmode": "group",
        "height": 600,
        "legend": {
         "title": {
          "text": "label"
         },
         "tracegroupgap": 0
        },
        "template": {
         "data": {
          "bar": [
           {
            "error_x": {
             "color": "#2a3f5f"
            },
            "error_y": {
             "color": "#2a3f5f"
            },
            "marker": {
             "line": {
              "color": "#E5ECF6",
              "width": 0.5
             },
             "pattern": {
              "fillmode": "overlay",
              "size": 10,
              "solidity": 0.2
             }
            },
            "type": "bar"
           }
          ],
          "barpolar": [
           {
            "marker": {
             "line": {
              "color": "#E5ECF6",
              "width": 0.5
             },
             "pattern": {
              "fillmode": "overlay",
              "size": 10,
              "solidity": 0.2
             }
            },
            "type": "barpolar"
           }
          ],
          "carpet": [
           {
            "aaxis": {
             "endlinecolor": "#2a3f5f",
             "gridcolor": "white",
             "linecolor": "white",
             "minorgridcolor": "white",
             "startlinecolor": "#2a3f5f"
            },
            "baxis": {
             "endlinecolor": "#2a3f5f",
             "gridcolor": "white",
             "linecolor": "white",
             "minorgridcolor": "white",
             "startlinecolor": "#2a3f5f"
            },
            "type": "carpet"
           }
          ],
          "choropleth": [
           {
            "colorbar": {
             "outlinewidth": 0,
             "ticks": ""
            },
            "type": "choropleth"
           }
          ],
          "contour": [
           {
            "colorbar": {
             "outlinewidth": 0,
             "ticks": ""
            },
            "colorscale": [
             [
              0,
              "#0d0887"
             ],
             [
              0.1111111111111111,
              "#46039f"
             ],
             [
              0.2222222222222222,
              "#7201a8"
             ],
             [
              0.3333333333333333,
              "#9c179e"
             ],
             [
              0.4444444444444444,
              "#bd3786"
             ],
             [
              0.5555555555555556,
              "#d8576b"
             ],
             [
              0.6666666666666666,
              "#ed7953"
             ],
             [
              0.7777777777777778,
              "#fb9f3a"
             ],
             [
              0.8888888888888888,
              "#fdca26"
             ],
             [
              1,
              "#f0f921"
             ]
            ],
            "type": "contour"
           }
          ],
          "contourcarpet": [
           {
            "colorbar": {
             "outlinewidth": 0,
             "ticks": ""
            },
            "type": "contourcarpet"
           }
          ],
          "heatmap": [
           {
            "colorbar": {
             "outlinewidth": 0,
             "ticks": ""
            },
            "colorscale": [
             [
              0,
              "#0d0887"
             ],
             [
              0.1111111111111111,
              "#46039f"
             ],
             [
              0.2222222222222222,
              "#7201a8"
             ],
             [
              0.3333333333333333,
              "#9c179e"
             ],
             [
              0.4444444444444444,
              "#bd3786"
             ],
             [
              0.5555555555555556,
              "#d8576b"
             ],
             [
              0.6666666666666666,
              "#ed7953"
             ],
             [
              0.7777777777777778,
              "#fb9f3a"
             ],
             [
              0.8888888888888888,
              "#fdca26"
             ],
             [
              1,
              "#f0f921"
             ]
            ],
            "type": "heatmap"
           }
          ],
          "heatmapgl": [
           {
            "colorbar": {
             "outlinewidth": 0,
             "ticks": ""
            },
            "colorscale": [
             [
              0,
              "#0d0887"
             ],
             [
              0.1111111111111111,
              "#46039f"
             ],
             [
              0.2222222222222222,
              "#7201a8"
             ],
             [
              0.3333333333333333,
              "#9c179e"
             ],
             [
              0.4444444444444444,
              "#bd3786"
             ],
             [
              0.5555555555555556,
              "#d8576b"
             ],
             [
              0.6666666666666666,
              "#ed7953"
             ],
             [
              0.7777777777777778,
              "#fb9f3a"
             ],
             [
              0.8888888888888888,
              "#fdca26"
             ],
             [
              1,
              "#f0f921"
             ]
            ],
            "type": "heatmapgl"
           }
          ],
          "histogram": [
           {
            "marker": {
             "pattern": {
              "fillmode": "overlay",
              "size": 10,
              "solidity": 0.2
             }
            },
            "type": "histogram"
           }
          ],
          "histogram2d": [
           {
            "colorbar": {
             "outlinewidth": 0,
             "ticks": ""
            },
            "colorscale": [
             [
              0,
              "#0d0887"
             ],
             [
              0.1111111111111111,
              "#46039f"
             ],
             [
              0.2222222222222222,
              "#7201a8"
             ],
             [
              0.3333333333333333,
              "#9c179e"
             ],
             [
              0.4444444444444444,
              "#bd3786"
             ],
             [
              0.5555555555555556,
              "#d8576b"
             ],
             [
              0.6666666666666666,
              "#ed7953"
             ],
             [
              0.7777777777777778,
              "#fb9f3a"
             ],
             [
              0.8888888888888888,
              "#fdca26"
             ],
             [
              1,
              "#f0f921"
             ]
            ],
            "type": "histogram2d"
           }
          ],
          "histogram2dcontour": [
           {
            "colorbar": {
             "outlinewidth": 0,
             "ticks": ""
            },
            "colorscale": [
             [
              0,
              "#0d0887"
             ],
             [
              0.1111111111111111,
              "#46039f"
             ],
             [
              0.2222222222222222,
              "#7201a8"
             ],
             [
              0.3333333333333333,
              "#9c179e"
             ],
             [
              0.4444444444444444,
              "#bd3786"
             ],
             [
              0.5555555555555556,
              "#d8576b"
             ],
             [
              0.6666666666666666,
              "#ed7953"
             ],
             [
              0.7777777777777778,
              "#fb9f3a"
             ],
             [
              0.8888888888888888,
              "#fdca26"
             ],
             [
              1,
              "#f0f921"
             ]
            ],
            "type": "histogram2dcontour"
           }
          ],
          "mesh3d": [
           {
            "colorbar": {
             "outlinewidth": 0,
             "ticks": ""
            },
            "type": "mesh3d"
           }
          ],
          "parcoords": [
           {
            "line": {
             "colorbar": {
              "outlinewidth": 0,
              "ticks": ""
             }
            },
            "type": "parcoords"
           }
          ],
          "pie": [
           {
            "automargin": true,
            "type": "pie"
           }
          ],
          "scatter": [
           {
            "marker": {
             "colorbar": {
              "outlinewidth": 0,
              "ticks": ""
             }
            },
            "type": "scatter"
           }
          ],
          "scatter3d": [
           {
            "line": {
             "colorbar": {
              "outlinewidth": 0,
              "ticks": ""
             }
            },
            "marker": {
             "colorbar": {
              "outlinewidth": 0,
              "ticks": ""
             }
            },
            "type": "scatter3d"
           }
          ],
          "scattercarpet": [
           {
            "marker": {
             "colorbar": {
              "outlinewidth": 0,
              "ticks": ""
             }
            },
            "type": "scattercarpet"
           }
          ],
          "scattergeo": [
           {
            "marker": {
             "colorbar": {
              "outlinewidth": 0,
              "ticks": ""
             }
            },
            "type": "scattergeo"
           }
          ],
          "scattergl": [
           {
            "marker": {
             "colorbar": {
              "outlinewidth": 0,
              "ticks": ""
             }
            },
            "type": "scattergl"
           }
          ],
          "scattermapbox": [
           {
            "marker": {
             "colorbar": {
              "outlinewidth": 0,
              "ticks": ""
             }
            },
            "type": "scattermapbox"
           }
          ],
          "scatterpolar": [
           {
            "marker": {
             "colorbar": {
              "outlinewidth": 0,
              "ticks": ""
             }
            },
            "type": "scatterpolar"
           }
          ],
          "scatterpolargl": [
           {
            "marker": {
             "colorbar": {
              "outlinewidth": 0,
              "ticks": ""
             }
            },
            "type": "scatterpolargl"
           }
          ],
          "scatterternary": [
           {
            "marker": {
             "colorbar": {
              "outlinewidth": 0,
              "ticks": ""
             }
            },
            "type": "scatterternary"
           }
          ],
          "surface": [
           {
            "colorbar": {
             "outlinewidth": 0,
             "ticks": ""
            },
            "colorscale": [
             [
              0,
              "#0d0887"
             ],
             [
              0.1111111111111111,
              "#46039f"
             ],
             [
              0.2222222222222222,
              "#7201a8"
             ],
             [
              0.3333333333333333,
              "#9c179e"
             ],
             [
              0.4444444444444444,
              "#bd3786"
             ],
             [
              0.5555555555555556,
              "#d8576b"
             ],
             [
              0.6666666666666666,
              "#ed7953"
             ],
             [
              0.7777777777777778,
              "#fb9f3a"
             ],
             [
              0.8888888888888888,
              "#fdca26"
             ],
             [
              1,
              "#f0f921"
             ]
            ],
            "type": "surface"
           }
          ],
          "table": [
           {
            "cells": {
             "fill": {
              "color": "#EBF0F8"
             },
             "line": {
              "color": "white"
             }
            },
            "header": {
             "fill": {
              "color": "#C8D4E3"
             },
             "line": {
              "color": "white"
             }
            },
            "type": "table"
           }
          ]
         },
         "layout": {
          "annotationdefaults": {
           "arrowcolor": "#2a3f5f",
           "arrowhead": 0,
           "arrowwidth": 1
          },
          "autotypenumbers": "strict",
          "coloraxis": {
           "colorbar": {
            "outlinewidth": 0,
            "ticks": ""
           }
          },
          "colorscale": {
           "diverging": [
            [
             0,
             "#8e0152"
            ],
            [
             0.1,
             "#c51b7d"
            ],
            [
             0.2,
             "#de77ae"
            ],
            [
             0.3,
             "#f1b6da"
            ],
            [
             0.4,
             "#fde0ef"
            ],
            [
             0.5,
             "#f7f7f7"
            ],
            [
             0.6,
             "#e6f5d0"
            ],
            [
             0.7,
             "#b8e186"
            ],
            [
             0.8,
             "#7fbc41"
            ],
            [
             0.9,
             "#4d9221"
            ],
            [
             1,
             "#276419"
            ]
           ],
           "sequential": [
            [
             0,
             "#0d0887"
            ],
            [
             0.1111111111111111,
             "#46039f"
            ],
            [
             0.2222222222222222,
             "#7201a8"
            ],
            [
             0.3333333333333333,
             "#9c179e"
            ],
            [
             0.4444444444444444,
             "#bd3786"
            ],
            [
             0.5555555555555556,
             "#d8576b"
            ],
            [
             0.6666666666666666,
             "#ed7953"
            ],
            [
             0.7777777777777778,
             "#fb9f3a"
            ],
            [
             0.8888888888888888,
             "#fdca26"
            ],
            [
             1,
             "#f0f921"
            ]
           ],
           "sequentialminus": [
            [
             0,
             "#0d0887"
            ],
            [
             0.1111111111111111,
             "#46039f"
            ],
            [
             0.2222222222222222,
             "#7201a8"
            ],
            [
             0.3333333333333333,
             "#9c179e"
            ],
            [
             0.4444444444444444,
             "#bd3786"
            ],
            [
             0.5555555555555556,
             "#d8576b"
            ],
            [
             0.6666666666666666,
             "#ed7953"
            ],
            [
             0.7777777777777778,
             "#fb9f3a"
            ],
            [
             0.8888888888888888,
             "#fdca26"
            ],
            [
             1,
             "#f0f921"
            ]
           ]
          },
          "colorway": [
           "#636efa",
           "#EF553B",
           "#00cc96",
           "#ab63fa",
           "#FFA15A",
           "#19d3f3",
           "#FF6692",
           "#B6E880",
           "#FF97FF",
           "#FECB52"
          ],
          "font": {
           "color": "#2a3f5f"
          },
          "geo": {
           "bgcolor": "white",
           "lakecolor": "white",
           "landcolor": "#E5ECF6",
           "showlakes": true,
           "showland": true,
           "subunitcolor": "white"
          },
          "hoverlabel": {
           "align": "left"
          },
          "hovermode": "closest",
          "mapbox": {
           "style": "light"
          },
          "paper_bgcolor": "white",
          "plot_bgcolor": "#E5ECF6",
          "polar": {
           "angularaxis": {
            "gridcolor": "white",
            "linecolor": "white",
            "ticks": ""
           },
           "bgcolor": "#E5ECF6",
           "radialaxis": {
            "gridcolor": "white",
            "linecolor": "white",
            "ticks": ""
           }
          },
          "scene": {
           "xaxis": {
            "backgroundcolor": "#E5ECF6",
            "gridcolor": "white",
            "gridwidth": 2,
            "linecolor": "white",
            "showbackground": true,
            "ticks": "",
            "zerolinecolor": "white"
           },
           "yaxis": {
            "backgroundcolor": "#E5ECF6",
            "gridcolor": "white",
            "gridwidth": 2,
            "linecolor": "white",
            "showbackground": true,
            "ticks": "",
            "zerolinecolor": "white"
           },
           "zaxis": {
            "backgroundcolor": "#E5ECF6",
            "gridcolor": "white",
            "gridwidth": 2,
            "linecolor": "white",
            "showbackground": true,
            "ticks": "",
            "zerolinecolor": "white"
           }
          },
          "shapedefaults": {
           "line": {
            "color": "#2a3f5f"
           }
          },
          "ternary": {
           "aaxis": {
            "gridcolor": "white",
            "linecolor": "white",
            "ticks": ""
           },
           "baxis": {
            "gridcolor": "white",
            "linecolor": "white",
            "ticks": ""
           },
           "bgcolor": "#E5ECF6",
           "caxis": {
            "gridcolor": "white",
            "linecolor": "white",
            "ticks": ""
           }
          },
          "title": {
           "x": 0.05
          },
          "xaxis": {
           "automargin": true,
           "gridcolor": "white",
           "linecolor": "white",
           "ticks": "",
           "title": {
            "standoff": 15
           },
           "zerolinecolor": "white",
           "zerolinewidth": 2
          },
          "yaxis": {
           "automargin": true,
           "gridcolor": "white",
           "linecolor": "white",
           "ticks": "",
           "title": {
            "standoff": 15
           },
           "zerolinecolor": "white",
           "zerolinewidth": 2
          }
         }
        },
        "title": {
         "text": "DocuScope category counts on Stormfront data"
        },
        "width": 800,
        "xaxis": {
         "anchor": "y",
         "autorange": true,
         "domain": [
          0,
          1
         ],
         "range": [
          -0.5,
          9.5
         ],
         "title": {
          "text": "category"
         },
         "type": "category"
        },
        "yaxis": {
         "anchor": "x",
         "autorange": true,
         "domain": [
          0,
          1
         ],
         "range": [
          0,
          0.06788899726401706
         ],
         "title": {
          "text": "normalized_count"
         },
         "type": "linear"
        }
       }
      },
      "image/png": "[encoded data removed]",
      "text/html": [
       "<div>                            <div id=\"cc44acde-3f46-4611-b13b-e3df6b209674\" class=\"plotly-graph-div\" style=\"height:600px; width:800px;\"></div>            <script type=\"text/javascript\">                require([\"plotly\"], function(Plotly) {                    window.PLOTLYENV=window.PLOTLYENV || {};                                    if (document.getElementById(\"cc44acde-3f46-4611-b13b-e3df6b209674\")) {                    Plotly.newPlot(                        \"cc44acde-3f46-4611-b13b-e3df6b209674\",                        [{\"alignmentgroup\":\"True\",\"hovertemplate\":\"label=hate<br>category=%{x}<br>normalized_count=%{y}<extra></extra>\",\"legendgroup\":\"hate\",\"marker\":{\"color\":\"#636efa\",\"pattern\":{\"shape\":\"\"}},\"name\":\"hate\",\"offsetgroup\":\"hate\",\"orientation\":\"v\",\"showlegend\":true,\"textposition\":\"auto\",\"type\":\"bar\",\"x\":[\"Negative\",\"CharacterTraitsTypes\",\"Description\",\"Reasoning\",\"Future\",\"ForceStressed\",\"InformationGeneral\",\"CharacterCognitiveAgency\",\"InformationChangePositive\",\"ConfidenceHigh\"],\"xaxis\":\"x\",\"y\":[0.048203652906937844,0.03984077072322205,0.06449454740081621,0.00829597912624607,0.00598782364354051,0.02204455743627484,0.04753462233224058,0.005586405298722151,0.0015722218505385696,0.006322338930889141],\"yaxis\":\"y\"},{\"alignmentgroup\":\"True\",\"hovertemplate\":\"label=noHate<br>category=%{x}<br>normalized_count=%{y}<extra></extra>\",\"legendgroup\":\"noHate\",\"marker\":{\"color\":\"#EF553B\",\"pattern\":{\"shape\":\"\"}},\"name\":\"noHate\",\"offsetgroup\":\"noHate\",\"orientation\":\"v\",\"showlegend\":true,\"textposition\":\"auto\",\"type\":\"bar\",\"x\":[\"Negative\",\"CharacterTraitsTypes\",\"Description\",\"Reasoning\",\"Future\",\"ForceStressed\",\"InformationGeneral\",\"CharacterCognitiveAgency\",\"InformationChangePositive\",\"ConfidenceHigh\"],\"xaxis\":\"x\",\"y\":[0.029405193599945006,0.02891825780099793,0.05933169493758629,0.005356293788417802,0.003757998636579763,0.02029662983140564,0.04584643763498147,0.004342321595316251,0.0006931674314423038,0.005665641237160649],\"yaxis\":\"y\"}],                        {\"barmode\":\"group\",\"height\":600,\"legend\":{\"title\":{\"text\":\"label\"},\"tracegroupgap\":0},\"template\":{\"data\":{\"bar\":[{\"error_x\":{\"color\":\"#2a3f5f\"},\"error_y\":{\"color\":\"#2a3f5f\"},\"marker\":{\"line\":{\"color\":\"#E5ECF6\",\"width\":0.5},\"pattern\":{\"fillmode\":\"overlay\",\"size\":10,\"solidity\":0.2}},\"type\":\"bar\"}],\"barpolar\":[{\"marker\":{\"line\":{\"color\":\"#E5ECF6\",\"width\":0.5},\"pattern\":{\"fillmode\":\"overlay\",\"size\":10,\"solidity\":0.2}},\"type\":\"barpolar\"}],\"carpet\":[{\"aaxis\":{\"endlinecolor\":\"#2a3f5f\",\"gridcolor\":\"white\",\"linecolor\":\"white\",\"minorgridcolor\":\"white\",\"startlinecolor\":\"#2a3f5f\"},\"baxis\":{\"endlinecolor\":\"#2a3f5f\",\"gridcolor\":\"white\",\"linecolor\":\"white\",\"minorgridcolor\":\"white\",\"startlinecolor\":\"#2a3f5f\"},\"type\":\"carpet\"}],\"choropleth\":[{\"colorbar\":{\"outlinewidth\":0,\"ticks\":\"\"},\"type\":\"choropleth\"}],\"contour\":[{\"colorbar\":{\"outlinewidth\":0,\"ticks\":\"\"},\"colorscale\":[[0.0,\"#0d0887\"],[0.1111111111111111,\"#46039f\"],[0.2222222222222222,\"#7201a8\"],[0.3333333333333333,\"#9c179e\"],[0.4444444444444444,\"#bd3786\"],[0.5555555555555556,\"#d8576b\"],[0.6666666666666666,\"#ed7953\"],[0.7777777777777778,\"#fb9f3a\"],[0.8888888888888888,\"#fdca26\"],[1.0,\"#f0f921\"]],\"type\":\"contour\"}],\"contourcarpet\":[{\"colorbar\":{\"outlinewidth\":0,\"ticks\":\"\"},\"type\":\"contourcarpet\"}],\"heatmap\":[{\"colorbar\":{\"outlinewidth\":0,\"ticks\":\"\"},\"colorscale\":[[0.0,\"#0d0887\"],[0.1111111111111111,\"#46039f\"],[0.2222222222222222,\"#7201a8\"],[0.3333333333333333,\"#9c179e\"],[0.4444444444444444,\"#bd3786\"],[0.5555555555555556,\"#d8576b\"],[0.6666666666666666,\"#ed7953\"],[0.7777777777777778,\"#fb9f3a\"],[0.8888888888888888,\"#fdca26\"],[1.0,\"#f0f921\"]],\"type\":\"heatmap\"}],\"heatmapgl\":[{\"colorbar\":{\"outlinewidth\":0,\"ticks\":\"\"},\"colorscale\":[[0.0,\"#0d0887\"],[0.1111111111111111,\"#46039f\"],[0.2222222222222222,\"#7201a8\"],[0.3333333333333333,\"#9c179e\"],[0.4444444444444444,\"#bd3786\"],[0.5555555555555556,\"#d8576b\"],[0.6666666666666666,\"#ed7953\"],[0.7777777777777778,\"#fb9f3a\"],[0.8888888888888888,\"#fdca26\"],[1.0,\"#f0f921\"]],\"type\":\"heatmapgl\"}],\"histogram\":[{\"marker\":{\"pattern\":{\"fillmode\":\"overlay\",\"size\":10,\"solidity\":0.2}},\"type\":\"histogram\"}],\"histogram2d\":[{\"colorbar\":{\"outlinewidth\":0,\"ticks\":\"\"},\"colorscale\":[[0.0,\"#0d0887\"],[0.1111111111111111,\"#46039f\"],[0.2222222222222222,\"#7201a8\"],[0.3333333333333333,\"#9c179e\"],[0.4444444444444444,\"#bd3786\"],[0.5555555555555556,\"#d8576b\"],[0.6666666666666666,\"#ed7953\"],[0.7777777777777778,\"#fb9f3a\"],[0.8888888888888888,\"#fdca26\"],[1.0,\"#f0f921\"]],\"type\":\"histogram2d\"}],\"histogram2dcontour\":[{\"colorbar\":{\"outlinewidth\":0,\"ticks\":\"\"},\"colorscale\":[[0.0,\"#0d0887\"],[0.1111111111111111,\"#46039f\"],[0.2222222222222222,\"#7201a8\"],[0.3333333333333333,\"#9c179e\"],[0.4444444444444444,\"#bd3786\"],[0.5555555555555556,\"#d8576b\"],[0.6666666666666666,\"#ed7953\"],[0.7777777777777778,\"#fb9f3a\"],[0.8888888888888888,\"#fdca26\"],[1.0,\"#f0f921\"]],\"type\":\"histogram2dcontour\"}],\"mesh3d\":[{\"colorbar\":{\"outlinewidth\":0,\"ticks\":\"\"},\"type\":\"mesh3d\"}],\"parcoords\":[{\"line\":{\"colorbar\":{\"outlinewidth\":0,\"ticks\":\"\"}},\"type\":\"parcoords\"}],\"pie\":[{\"automargin\":true,\"type\":\"pie\"}],\"scatter\":[{\"marker\":{\"colorbar\":{\"outlinewidth\":0,\"ticks\":\"\"}},\"type\":\"scatter\"}],\"scatter3d\":[{\"line\":{\"colorbar\":{\"outlinewidth\":0,\"ticks\":\"\"}},\"marker\":{\"colorbar\":{\"outlinewidth\":0,\"ticks\":\"\"}},\"type\":\"scatter3d\"}],\"scattercarpet\":[{\"marker\":{\"colorbar\":{\"outlinewidth\":0,\"ticks\":\"\"}},\"type\":\"scattercarpet\"}],\"scattergeo\":[{\"marker\":{\"colorbar\":{\"outlinewidth\":0,\"ticks\":\"\"}},\"type\":\"scattergeo\"}],\"scattergl\":[{\"marker\":{\"colorbar\":{\"outlinewidth\":0,\"ticks\":\"\"}},\"type\":\"scattergl\"}],\"scattermapbox\":[{\"marker\":{\"colorbar\":{\"outlinewidth\":0,\"ticks\":\"\"}},\"type\":\"scattermapbox\"}],\"scatterpolar\":[{\"marker\":{\"colorbar\":{\"outlinewidth\":0,\"ticks\":\"\"}},\"type\":\"scatterpolar\"}],\"scatterpolargl\":[{\"marker\":{\"colorbar\":{\"outlinewidth\":0,\"ticks\":\"\"}},\"type\":\"scatterpolargl\"}],\"scatterternary\":[{\"marker\":{\"colorbar\":{\"outlinewidth\":0,\"ticks\":\"\"}},\"type\":\"scatterternary\"}],\"surface\":[{\"colorbar\":{\"outlinewidth\":0,\"ticks\":\"\"},\"colorscale\":[[0.0,\"#0d0887\"],[0.1111111111111111,\"#46039f\"],[0.2222222222222222,\"#7201a8\"],[0.3333333333333333,\"#9c179e\"],[0.4444444444444444,\"#bd3786\"],[0.5555555555555556,\"#d8576b\"],[0.6666666666666666,\"#ed7953\"],[0.7777777777777778,\"#fb9f3a\"],[0.8888888888888888,\"#fdca26\"],[1.0,\"#f0f921\"]],\"type\":\"surface\"}],\"table\":[{\"cells\":{\"fill\":{\"color\":\"#EBF0F8\"},\"line\":{\"color\":\"white\"}},\"header\":{\"fill\":{\"color\":\"#C8D4E3\"},\"line\":{\"color\":\"white\"}},\"type\":\"table\"}]},\"layout\":{\"annotationdefaults\":{\"arrowcolor\":\"#2a3f5f\",\"arrowhead\":0,\"arrowwidth\":1},\"autotypenumbers\":\"strict\",\"coloraxis\":{\"colorbar\":{\"outlinewidth\":0,\"ticks\":\"\"}},\"colorscale\":{\"diverging\":[[0,\"#8e0152\"],[0.1,\"#c51b7d\"],[0.2,\"#de77ae\"],[0.3,\"#f1b6da\"],[0.4,\"#fde0ef\"],[0.5,\"#f7f7f7\"],[0.6,\"#e6f5d0\"],[0.7,\"#b8e186\"],[0.8,\"#7fbc41\"],[0.9,\"#4d9221\"],[1,\"#276419\"]],\"sequential\":[[0.0,\"#0d0887\"],[0.1111111111111111,\"#46039f\"],[0.2222222222222222,\"#7201a8\"],[0.3333333333333333,\"#9c179e\"],[0.4444444444444444,\"#bd3786\"],[0.5555555555555556,\"#d8576b\"],[0.6666666666666666,\"#ed7953\"],[0.7777777777777778,\"#fb9f3a\"],[0.8888888888888888,\"#fdca26\"],[1.0,\"#f0f921\"]],\"sequentialminus\":[[0.0,\"#0d0887\"],[0.1111111111111111,\"#46039f\"],[0.2222222222222222,\"#7201a8\"],[0.3333333333333333,\"#9c179e\"],[0.4444444444444444,\"#bd3786\"],[0.5555555555555556,\"#d8576b\"],[0.6666666666666666,\"#ed7953\"],[0.7777777777777778,\"#fb9f3a\"],[0.8888888888888888,\"#fdca26\"],[1.0,\"#f0f921\"]]},\"colorway\":[\"#636efa\",\"#EF553B\",\"#00cc96\",\"#ab63fa\",\"#FFA15A\",\"#19d3f3\",\"#FF6692\",\"#B6E880\",\"#FF97FF\",\"#FECB52\"],\"font\":{\"color\":\"#2a3f5f\"},\"geo\":{\"bgcolor\":\"white\",\"lakecolor\":\"white\",\"landcolor\":\"#E5ECF6\",\"showlakes\":true,\"showland\":true,\"subunitcolor\":\"white\"},\"hoverlabel\":{\"align\":\"left\"},\"hovermode\":\"closest\",\"mapbox\":{\"style\":\"light\"},\"paper_bgcolor\":\"white\",\"plot_bgcolor\":\"#E5ECF6\",\"polar\":{\"angularaxis\":{\"gridcolor\":\"white\",\"linecolor\":\"white\",\"ticks\":\"\"},\"bgcolor\":\"#E5ECF6\",\"radialaxis\":{\"gridcolor\":\"white\",\"linecolor\":\"white\",\"ticks\":\"\"}},\"scene\":{\"xaxis\":{\"backgroundcolor\":\"#E5ECF6\",\"gridcolor\":\"white\",\"gridwidth\":2,\"linecolor\":\"white\",\"showbackground\":true,\"ticks\":\"\",\"zerolinecolor\":\"white\"},\"yaxis\":{\"backgroundcolor\":\"#E5ECF6\",\"gridcolor\":\"white\",\"gridwidth\":2,\"linecolor\":\"white\",\"showbackground\":true,\"ticks\":\"\",\"zerolinecolor\":\"white\"},\"zaxis\":{\"backgroundcolor\":\"#E5ECF6\",\"gridcolor\":\"white\",\"gridwidth\":2,\"linecolor\":\"white\",\"showbackground\":true,\"ticks\":\"\",\"zerolinecolor\":\"white\"}},\"shapedefaults\":{\"line\":{\"color\":\"#2a3f5f\"}},\"ternary\":{\"aaxis\":{\"gridcolor\":\"white\",\"linecolor\":\"white\",\"ticks\":\"\"},\"baxis\":{\"gridcolor\":\"white\",\"linecolor\":\"white\",\"ticks\":\"\"},\"bgcolor\":\"#E5ECF6\",\"caxis\":{\"gridcolor\":\"white\",\"linecolor\":\"white\",\"ticks\":\"\"}},\"title\":{\"x\":0.05},\"xaxis\":{\"automargin\":true,\"gridcolor\":\"white\",\"linecolor\":\"white\",\"ticks\":\"\",\"title\":{\"standoff\":15},\"zerolinecolor\":\"white\",\"zerolinewidth\":2},\"yaxis\":{\"automargin\":true,\"gridcolor\":\"white\",\"linecolor\":\"white\",\"ticks\":\"\",\"title\":{\"standoff\":15},\"zerolinecolor\":\"white\",\"zerolinewidth\":2}}},\"title\":{\"text\":\"DocuScope category counts on Stormfront data\"},\"width\":800,\"xaxis\":{\"anchor\":\"y\",\"domain\":[0.0,1.0],\"title\":{\"text\":\"category\"}},\"yaxis\":{\"anchor\":\"x\",\"domain\":[0.0,1.0],\"title\":{\"text\":\"normalized_count\"}}},                        {\"responsive\": true}                    ).then(function(){\n",
       "                            \n",
       "var gd = document.getElementById('cc44acde-3f46-4611-b13b-e3df6b209674');\n",
       "var x = new MutationObserver(function (mutations, observer) {{\n",
       "        var display = window.getComputedStyle(gd).display;\n",
       "        if (!display || display === 'none') {{\n",
       "            console.log([gd, 'removed!']);\n",
       "            Plotly.purge(gd);\n",
       "            observer.disconnect();\n",
       "        }}\n",
       "}});\n",
       "\n",
       "// Listen for the removal of the full notebook cells\n",
       "var notebookContainer = gd.closest('#notebook-container');\n",
       "if (notebookContainer) {{\n",
       "    x.observe(notebookContainer, {childList: true});\n",
       "}}\n",
       "\n",
       "// Listen for the clearing of the current output cell\n",
       "var outputEl = gd.closest('.output');\n",
       "if (outputEl) {{\n",
       "    x.observe(outputEl, {childList: true});\n",
       "}}\n",
       "\n",
       "                        })                };                });            </script>        </div>"
      ]
     },
     "metadata": {},
     "output_type": "display_data"
    }
   ],
   "source": [
    "# Plot bar graph\n",
    "import plotly.express as px\n",
    "fig = px.bar(long_top, x='category', y='normalized_count', color='label', title='DocuScope category counts on Stormfront data', barmode='group', height=600, width=800)\n",
    "fig.show()"
   ]
  },
  {
   "cell_type": "markdown",
   "id": "5b3b2d44-374f-4f99-a9e5-f834b54cc756",
   "metadata": {
    "jp-MarkdownHeadingCollapsed": true,
    "tags": []
   },
   "source": [
    "# Old"
   ]
  },
  {
   "cell_type": "markdown",
   "id": "ee1ea110-26ae-4f86-98eb-24316126f80b",
   "metadata": {},
   "source": [
    "## Dealing with the token CSVs\n",
    "But they just give LATs, not clusters :((("
   ]
  },
  {
   "cell_type": "code",
   "execution_count": 8,
   "id": "0ea8a795-8f8c-471a-847c-8bcfd8026bcf",
   "metadata": {},
   "outputs": [
    {
     "name": "stdout",
     "output_type": "stream",
     "text": [
      "577938_tokens.csv\n"
     ]
    },
    {
     "data": {
      "text/html": [
       "<div>\n",
       "<style scoped>\n",
       "    .dataframe tbody tr th:only-of-type {\n",
       "        vertical-align: middle;\n",
       "    }\n",
       "\n",
       "    .dataframe tbody tr th {\n",
       "        vertical-align: top;\n",
       "    }\n",
       "\n",
       "    .dataframe thead th {\n",
       "        text-align: right;\n",
       "    }\n",
       "</style>\n",
       "<table border=\"1\" class=\"dataframe\">\n",
       "  <thead>\n",
       "    <tr style=\"text-align: right;\">\n",
       "      <th></th>\n",
       "      <th>original_token</th>\n",
       "      <th>lowercased_token</th>\n",
       "      <th>whitespace_after</th>\n",
       "      <th>lat</th>\n",
       "      <th>pattern_position</th>\n",
       "    </tr>\n",
       "  </thead>\n",
       "  <tbody>\n",
       "    <tr>\n",
       "      <th>0</th>\n",
       "      <td>GLORY</td>\n",
       "      <td>glory</td>\n",
       "      <td>s</td>\n",
       "      <td>PositiveValuesDimensionGeneral_LAT</td>\n",
       "      <td>0</td>\n",
       "    </tr>\n",
       "    <tr>\n",
       "      <th>1</th>\n",
       "      <td>To</td>\n",
       "      <td>to</td>\n",
       "      <td>s</td>\n",
       "      <td>PositiveRelationsInclusive_LAT</td>\n",
       "      <td>0</td>\n",
       "    </tr>\n",
       "    <tr>\n",
       "      <th>2</th>\n",
       "      <td>our</td>\n",
       "      <td>our</td>\n",
       "      <td>s</td>\n",
       "      <td>PositiveRelationsInclusive_LAT</td>\n",
       "      <td>1</td>\n",
       "    </tr>\n",
       "    <tr>\n",
       "      <th>3</th>\n",
       "      <td>British</td>\n",
       "      <td>british</td>\n",
       "      <td>s</td>\n",
       "      <td>CharacterTypesDimensionGeneral_LAT</td>\n",
       "      <td>0</td>\n",
       "    </tr>\n",
       "    <tr>\n",
       "      <th>4</th>\n",
       "      <td>Activist</td>\n",
       "      <td>activist</td>\n",
       "      <td>s</td>\n",
       "      <td>StrategicActivismDimensionGeneral_LAT</td>\n",
       "      <td>0</td>\n",
       "    </tr>\n",
       "    <tr>\n",
       "      <th>5</th>\n",
       "      <td>&amp;</td>\n",
       "      <td>&amp;</td>\n",
       "      <td>s</td>\n",
       "      <td>NaN</td>\n",
       "      <td>0</td>\n",
       "    </tr>\n",
       "    <tr>\n",
       "      <th>6</th>\n",
       "      <td>Nationalist</td>\n",
       "      <td>nationalist</td>\n",
       "      <td>s</td>\n",
       "      <td>PublicDimensionGeneral_LAT</td>\n",
       "      <td>0</td>\n",
       "    </tr>\n",
       "    <tr>\n",
       "      <th>7</th>\n",
       "      <td>!</td>\n",
       "      <td>!</td>\n",
       "      <td>s</td>\n",
       "      <td>ForceDimensionGeneral_LAT</td>\n",
       "      <td>0</td>\n",
       "    </tr>\n",
       "    <tr>\n",
       "      <th>8</th>\n",
       "      <td>Good</td>\n",
       "      <td>good</td>\n",
       "      <td>s</td>\n",
       "      <td>PositiveEmotionGood_LAT</td>\n",
       "      <td>0</td>\n",
       "    </tr>\n",
       "    <tr>\n",
       "      <th>9</th>\n",
       "      <td>To</td>\n",
       "      <td>to</td>\n",
       "      <td>s</td>\n",
       "      <td>PositiveEmotionGood_LAT</td>\n",
       "      <td>1</td>\n",
       "    </tr>\n",
       "    <tr>\n",
       "      <th>10</th>\n",
       "      <td>to</td>\n",
       "      <td>to</td>\n",
       "      <td>s</td>\n",
       "      <td>StrategicGoalsDimensionGeneral_LAT</td>\n",
       "      <td>0</td>\n",
       "    </tr>\n",
       "    <tr>\n",
       "      <th>11</th>\n",
       "      <td>See</td>\n",
       "      <td>see</td>\n",
       "      <td>s</td>\n",
       "      <td>StrategicGoalsDimensionGeneral_LAT</td>\n",
       "      <td>1</td>\n",
       "    </tr>\n",
       "    <tr>\n",
       "      <th>12</th>\n",
       "      <td>the</td>\n",
       "      <td>the</td>\n",
       "      <td>s</td>\n",
       "      <td>OrphanedDimensionGeneral_LAT</td>\n",
       "      <td>0</td>\n",
       "    </tr>\n",
       "    <tr>\n",
       "      <th>13</th>\n",
       "      <td>Poles</td>\n",
       "      <td>poles</td>\n",
       "      <td>s</td>\n",
       "      <td>DescriptObjectsDimensionGeneralWarehouseAThruZ...</td>\n",
       "      <td>0</td>\n",
       "    </tr>\n",
       "    <tr>\n",
       "      <th>14</th>\n",
       "      <td>Help</td>\n",
       "      <td>help</td>\n",
       "      <td>s</td>\n",
       "      <td>PositiveActHelp_LAT</td>\n",
       "      <td>0</td>\n",
       "    </tr>\n",
       "    <tr>\n",
       "      <th>15</th>\n",
       "      <td>Out</td>\n",
       "      <td>out</td>\n",
       "      <td>s</td>\n",
       "      <td>PositiveActHelp_LAT</td>\n",
       "      <td>1</td>\n",
       "    </tr>\n",
       "    <tr>\n",
       "      <th>16</th>\n",
       "      <td>!</td>\n",
       "      <td>!</td>\n",
       "      <td>s</td>\n",
       "      <td>ForceDimensionGeneral_LAT</td>\n",
       "      <td>0</td>\n",
       "    </tr>\n",
       "    <tr>\n",
       "      <th>17</th>\n",
       "      <td>Glory</td>\n",
       "      <td>glory</td>\n",
       "      <td>s</td>\n",
       "      <td>PositiveValuesDimensionGeneral_LAT</td>\n",
       "      <td>0</td>\n",
       "    </tr>\n",
       "    <tr>\n",
       "      <th>18</th>\n",
       "      <td>To</td>\n",
       "      <td>to</td>\n",
       "      <td>s</td>\n",
       "      <td>ReasonGenericGeneralize_LAT</td>\n",
       "      <td>0</td>\n",
       "    </tr>\n",
       "    <tr>\n",
       "      <th>19</th>\n",
       "      <td>all</td>\n",
       "      <td>all</td>\n",
       "      <td>s</td>\n",
       "      <td>ReasonGenericGeneralize_LAT</td>\n",
       "      <td>1</td>\n",
       "    </tr>\n",
       "    <tr>\n",
       "      <th>20</th>\n",
       "      <td>our</td>\n",
       "      <td>our</td>\n",
       "      <td>s</td>\n",
       "      <td>PositiveRelationsInclusive_LAT</td>\n",
       "      <td>0</td>\n",
       "    </tr>\n",
       "    <tr>\n",
       "      <th>21</th>\n",
       "      <td>Valiant</td>\n",
       "      <td>valiant</td>\n",
       "      <td>s</td>\n",
       "      <td>PositiveValuesStrong_LAT</td>\n",
       "      <td>0</td>\n",
       "    </tr>\n",
       "    <tr>\n",
       "      <th>22</th>\n",
       "      <td>British</td>\n",
       "      <td>british</td>\n",
       "      <td>s</td>\n",
       "      <td>CharacterTypesDimensionGeneral_LAT</td>\n",
       "      <td>0</td>\n",
       "    </tr>\n",
       "    <tr>\n",
       "      <th>23</th>\n",
       "      <td>Brothers</td>\n",
       "      <td>brothers</td>\n",
       "      <td>s</td>\n",
       "      <td>CharacterTypesDimensionGeneral_LAT</td>\n",
       "      <td>0</td>\n",
       "    </tr>\n",
       "    <tr>\n",
       "      <th>24</th>\n",
       "      <td>&amp;</td>\n",
       "      <td>&amp;</td>\n",
       "      <td>s</td>\n",
       "      <td>NaN</td>\n",
       "      <td>0</td>\n",
       "    </tr>\n",
       "    <tr>\n",
       "      <th>25</th>\n",
       "      <td>Sisters</td>\n",
       "      <td>sisters</td>\n",
       "      <td>s</td>\n",
       "      <td>CharacterTypesDimensionGeneral_LAT</td>\n",
       "      <td>0</td>\n",
       "    </tr>\n",
       "    <tr>\n",
       "      <th>26</th>\n",
       "      <td>!</td>\n",
       "      <td>!</td>\n",
       "      <td>e</td>\n",
       "      <td>ForceDimensionGeneral_LAT</td>\n",
       "      <td>0</td>\n",
       "    </tr>\n",
       "  </tbody>\n",
       "</table>\n",
       "</div>"
      ],
      "text/plain": [
       "   original_token lowercased_token whitespace_after  \\\n",
       "0           GLORY            glory                s   \n",
       "1              To               to                s   \n",
       "2             our              our                s   \n",
       "3         British          british                s   \n",
       "4        Activist         activist                s   \n",
       "5               &                &                s   \n",
       "6     Nationalist      nationalist                s   \n",
       "7               !                !                s   \n",
       "8            Good             good                s   \n",
       "9              To               to                s   \n",
       "10             to               to                s   \n",
       "11            See              see                s   \n",
       "12            the              the                s   \n",
       "13          Poles            poles                s   \n",
       "14           Help             help                s   \n",
       "15            Out              out                s   \n",
       "16              !                !                s   \n",
       "17          Glory            glory                s   \n",
       "18             To               to                s   \n",
       "19            all              all                s   \n",
       "20            our              our                s   \n",
       "21        Valiant          valiant                s   \n",
       "22        British          british                s   \n",
       "23       Brothers         brothers                s   \n",
       "24              &                &                s   \n",
       "25        Sisters          sisters                s   \n",
       "26              !                !                e   \n",
       "\n",
       "                                                  lat  pattern_position  \n",
       "0                  PositiveValuesDimensionGeneral_LAT                 0  \n",
       "1                      PositiveRelationsInclusive_LAT                 0  \n",
       "2                      PositiveRelationsInclusive_LAT                 1  \n",
       "3                  CharacterTypesDimensionGeneral_LAT                 0  \n",
       "4               StrategicActivismDimensionGeneral_LAT                 0  \n",
       "5                                                 NaN                 0  \n",
       "6                          PublicDimensionGeneral_LAT                 0  \n",
       "7                           ForceDimensionGeneral_LAT                 0  \n",
       "8                             PositiveEmotionGood_LAT                 0  \n",
       "9                             PositiveEmotionGood_LAT                 1  \n",
       "10                 StrategicGoalsDimensionGeneral_LAT                 0  \n",
       "11                 StrategicGoalsDimensionGeneral_LAT                 1  \n",
       "12                       OrphanedDimensionGeneral_LAT                 0  \n",
       "13  DescriptObjectsDimensionGeneralWarehouseAThruZ...                 0  \n",
       "14                                PositiveActHelp_LAT                 0  \n",
       "15                                PositiveActHelp_LAT                 1  \n",
       "16                          ForceDimensionGeneral_LAT                 0  \n",
       "17                 PositiveValuesDimensionGeneral_LAT                 0  \n",
       "18                        ReasonGenericGeneralize_LAT                 0  \n",
       "19                        ReasonGenericGeneralize_LAT                 1  \n",
       "20                     PositiveRelationsInclusive_LAT                 0  \n",
       "21                           PositiveValuesStrong_LAT                 0  \n",
       "22                 CharacterTypesDimensionGeneral_LAT                 0  \n",
       "23                 CharacterTypesDimensionGeneral_LAT                 0  \n",
       "24                                                NaN                 0  \n",
       "25                 CharacterTypesDimensionGeneral_LAT                 0  \n",
       "26                          ForceDimensionGeneral_LAT                 0  "
      ]
     },
     "execution_count": 8,
     "metadata": {},
     "output_type": "execute_result"
    }
   ],
   "source": [
    "# Load token csvs\n",
    "import os\n",
    "import pandas as pd\n",
    "\n",
    "ds_output_dirpath = '/storage2/mamille3/data/hate_speech/degibert2019/docuscope_output_by_author/degibert2019_by_author-2022-02-15-141033/'\n",
    "for fname in os.listdir(os.path.join(ds_output_dirpath, 'token_csv'))[:1]:\n",
    "    print(fname)\n",
    "    fpath = os.path.join(ds_output_dirpath, 'token_csv', fname)\n",
    "    tokens = pd.read_csv(fpath, names=['original_token', 'lowercased_token', 'whitespace_after', 'lat', 'pattern_position'])\n",
    "    \n",
    "tokens"
   ]
  },
  {
   "cell_type": "code",
   "execution_count": 13,
   "id": "8687dce8-ee58-4502-ac0b-c813786f3278",
   "metadata": {},
   "outputs": [
    {
     "data": {
      "text/html": [
       "<div>\n",
       "<style scoped>\n",
       "    .dataframe tbody tr th:only-of-type {\n",
       "        vertical-align: middle;\n",
       "    }\n",
       "\n",
       "    .dataframe tbody tr th {\n",
       "        vertical-align: top;\n",
       "    }\n",
       "\n",
       "    .dataframe thead th {\n",
       "        text-align: right;\n",
       "    }\n",
       "</style>\n",
       "<table border=\"1\" class=\"dataframe\">\n",
       "  <thead>\n",
       "    <tr style=\"text-align: right;\">\n",
       "      <th></th>\n",
       "      <th>comment_id</th>\n",
       "      <th>sentence_id</th>\n",
       "      <th>text</th>\n",
       "      <th>user_id</th>\n",
       "      <th>subforum_id</th>\n",
       "      <th>num_contexts</th>\n",
       "      <th>label</th>\n",
       "    </tr>\n",
       "    <tr>\n",
       "      <th>file_id</th>\n",
       "      <th></th>\n",
       "      <th></th>\n",
       "      <th></th>\n",
       "      <th></th>\n",
       "      <th></th>\n",
       "      <th></th>\n",
       "      <th></th>\n",
       "    </tr>\n",
       "  </thead>\n",
       "  <tbody>\n",
       "    <tr>\n",
       "      <th>12834217_1</th>\n",
       "      <td>12834217</td>\n",
       "      <td>1</td>\n",
       "      <td>As of March 13th , 2014 , the booklet had been...</td>\n",
       "      <td>572066</td>\n",
       "      <td>1346</td>\n",
       "      <td>0</td>\n",
       "      <td>noHate</td>\n",
       "    </tr>\n",
       "    <tr>\n",
       "      <th>12834217_2</th>\n",
       "      <td>12834217</td>\n",
       "      <td>2</td>\n",
       "      <td>In order to help increase the booklets downloa...</td>\n",
       "      <td>572066</td>\n",
       "      <td>1346</td>\n",
       "      <td>0</td>\n",
       "      <td>noHate</td>\n",
       "    </tr>\n",
       "    <tr>\n",
       "      <th>12834217_3</th>\n",
       "      <td>12834217</td>\n",
       "      <td>3</td>\n",
       "      <td>( Simply copy and paste the following text int...</td>\n",
       "      <td>572066</td>\n",
       "      <td>1346</td>\n",
       "      <td>0</td>\n",
       "      <td>noHate</td>\n",
       "    </tr>\n",
       "    <tr>\n",
       "      <th>12834217_4</th>\n",
       "      <td>12834217</td>\n",
       "      <td>4</td>\n",
       "      <td>Click below for a FREE download of a colorfull...</td>\n",
       "      <td>572066</td>\n",
       "      <td>1346</td>\n",
       "      <td>0</td>\n",
       "      <td>hate</td>\n",
       "    </tr>\n",
       "    <tr>\n",
       "      <th>12834217_5</th>\n",
       "      <td>12834217</td>\n",
       "      <td>5</td>\n",
       "      <td>Click on the `` DOWNLOAD ( 7.42 MB ) '' green ...</td>\n",
       "      <td>572066</td>\n",
       "      <td>1346</td>\n",
       "      <td>0</td>\n",
       "      <td>noHate</td>\n",
       "    </tr>\n",
       "    <tr>\n",
       "      <th>...</th>\n",
       "      <td>...</td>\n",
       "      <td>...</td>\n",
       "      <td>...</td>\n",
       "      <td>...</td>\n",
       "      <td>...</td>\n",
       "      <td>...</td>\n",
       "      <td>...</td>\n",
       "    </tr>\n",
       "    <tr>\n",
       "      <th>33677015_1</th>\n",
       "      <td>33677015</td>\n",
       "      <td>1</td>\n",
       "      <td>Apparently he came to the conclusion that his ...</td>\n",
       "      <td>572948</td>\n",
       "      <td>1388</td>\n",
       "      <td>0</td>\n",
       "      <td>noHate</td>\n",
       "    </tr>\n",
       "    <tr>\n",
       "      <th>33677019_1</th>\n",
       "      <td>33677019</td>\n",
       "      <td>1</td>\n",
       "      <td>Wish we at least had a Marine Le Pen to vote f...</td>\n",
       "      <td>735154</td>\n",
       "      <td>1388</td>\n",
       "      <td>0</td>\n",
       "      <td>noHate</td>\n",
       "    </tr>\n",
       "    <tr>\n",
       "      <th>33677019_2</th>\n",
       "      <td>33677019</td>\n",
       "      <td>2</td>\n",
       "      <td>Its like the choices are white genocide candid...</td>\n",
       "      <td>735154</td>\n",
       "      <td>1388</td>\n",
       "      <td>0</td>\n",
       "      <td>noHate</td>\n",
       "    </tr>\n",
       "    <tr>\n",
       "      <th>33677053_1</th>\n",
       "      <td>33677053</td>\n",
       "      <td>1</td>\n",
       "      <td>Why White people used to say that sex was a si...</td>\n",
       "      <td>572266</td>\n",
       "      <td>1388</td>\n",
       "      <td>0</td>\n",
       "      <td>hate</td>\n",
       "    </tr>\n",
       "    <tr>\n",
       "      <th>33677053_2</th>\n",
       "      <td>33677053</td>\n",
       "      <td>2</td>\n",
       "      <td>Now I get it !</td>\n",
       "      <td>572266</td>\n",
       "      <td>1388</td>\n",
       "      <td>0</td>\n",
       "      <td>noHate</td>\n",
       "    </tr>\n",
       "  </tbody>\n",
       "</table>\n",
       "<p>10944 rows × 7 columns</p>\n",
       "</div>"
      ],
      "text/plain": [
       "            comment_id  sentence_id  \\\n",
       "file_id                               \n",
       "12834217_1    12834217            1   \n",
       "12834217_2    12834217            2   \n",
       "12834217_3    12834217            3   \n",
       "12834217_4    12834217            4   \n",
       "12834217_5    12834217            5   \n",
       "...                ...          ...   \n",
       "33677015_1    33677015            1   \n",
       "33677019_1    33677019            1   \n",
       "33677019_2    33677019            2   \n",
       "33677053_1    33677053            1   \n",
       "33677053_2    33677053            2   \n",
       "\n",
       "                                                         text  user_id  \\\n",
       "file_id                                                                  \n",
       "12834217_1  As of March 13th , 2014 , the booklet had been...   572066   \n",
       "12834217_2  In order to help increase the booklets downloa...   572066   \n",
       "12834217_3  ( Simply copy and paste the following text int...   572066   \n",
       "12834217_4  Click below for a FREE download of a colorfull...   572066   \n",
       "12834217_5  Click on the `` DOWNLOAD ( 7.42 MB ) '' green ...   572066   \n",
       "...                                                       ...      ...   \n",
       "33677015_1  Apparently he came to the conclusion that his ...   572948   \n",
       "33677019_1  Wish we at least had a Marine Le Pen to vote f...   735154   \n",
       "33677019_2  Its like the choices are white genocide candid...   735154   \n",
       "33677053_1  Why White people used to say that sex was a si...   572266   \n",
       "33677053_2                                     Now I get it !   572266   \n",
       "\n",
       "            subforum_id  num_contexts   label  \n",
       "file_id                                        \n",
       "12834217_1         1346             0  noHate  \n",
       "12834217_2         1346             0  noHate  \n",
       "12834217_3         1346             0  noHate  \n",
       "12834217_4         1346             0    hate  \n",
       "12834217_5         1346             0  noHate  \n",
       "...                 ...           ...     ...  \n",
       "33677015_1         1388             0  noHate  \n",
       "33677019_1         1388             0  noHate  \n",
       "33677019_2         1388             0  noHate  \n",
       "33677053_1         1388             0    hate  \n",
       "33677053_2         1388             0  noHate  \n",
       "\n",
       "[10944 rows x 7 columns]"
      ]
     },
     "execution_count": 13,
     "metadata": {},
     "output_type": "execute_result"
    }
   ],
   "source": [
    "# Load sentence splits and annotations\n",
    "annotations_fpath = '/storage2/mamille3/data/hate_speech/degibert2019/combined_data.csv'\n",
    "annotations = pd.read_csv(annotations_fpath).sort_values(['comment_id', 'sentence_id']).set_index('file_id')\n",
    "annotations"
   ]
  },
  {
   "cell_type": "code",
   "execution_count": 28,
   "id": "e60a1717-6527-4cfb-a2df-a5fe183b4cb1",
   "metadata": {},
   "outputs": [
    {
     "data": {
      "text/html": [
       "<div>\n",
       "<style scoped>\n",
       "    .dataframe tbody tr th:only-of-type {\n",
       "        vertical-align: middle;\n",
       "    }\n",
       "\n",
       "    .dataframe tbody tr th {\n",
       "        vertical-align: top;\n",
       "    }\n",
       "\n",
       "    .dataframe thead th {\n",
       "        text-align: right;\n",
       "    }\n",
       "</style>\n",
       "<table border=\"1\" class=\"dataframe\">\n",
       "  <thead>\n",
       "    <tr style=\"text-align: right;\">\n",
       "      <th></th>\n",
       "      <th>comment_id</th>\n",
       "      <th>sentence_id</th>\n",
       "      <th>text</th>\n",
       "      <th>user_id</th>\n",
       "      <th>subforum_id</th>\n",
       "      <th>num_contexts</th>\n",
       "      <th>label</th>\n",
       "      <th>sentence_length</th>\n",
       "    </tr>\n",
       "    <tr>\n",
       "      <th>file_id</th>\n",
       "      <th></th>\n",
       "      <th></th>\n",
       "      <th></th>\n",
       "      <th></th>\n",
       "      <th></th>\n",
       "      <th></th>\n",
       "      <th></th>\n",
       "      <th></th>\n",
       "    </tr>\n",
       "  </thead>\n",
       "  <tbody>\n",
       "    <tr>\n",
       "      <th>30430878_1</th>\n",
       "      <td>30430878</td>\n",
       "      <td>1</td>\n",
       "      <td>GLORY To our British Activist &amp; Nationalist ! ...</td>\n",
       "      <td>577938</td>\n",
       "      <td>1359</td>\n",
       "      <td>0</td>\n",
       "      <td>noHate</td>\n",
       "      <td>17</td>\n",
       "    </tr>\n",
       "    <tr>\n",
       "      <th>30430878_2</th>\n",
       "      <td>30430878</td>\n",
       "      <td>2</td>\n",
       "      <td>Glory To all our Valiant British Brothers &amp; Si...</td>\n",
       "      <td>577938</td>\n",
       "      <td>1359</td>\n",
       "      <td>0</td>\n",
       "      <td>noHate</td>\n",
       "      <td>10</td>\n",
       "    </tr>\n",
       "  </tbody>\n",
       "</table>\n",
       "</div>"
      ],
      "text/plain": [
       "            comment_id  sentence_id  \\\n",
       "file_id                               \n",
       "30430878_1    30430878            1   \n",
       "30430878_2    30430878            2   \n",
       "\n",
       "                                                         text  user_id  \\\n",
       "file_id                                                                  \n",
       "30430878_1  GLORY To our British Activist & Nationalist ! ...   577938   \n",
       "30430878_2  Glory To all our Valiant British Brothers & Si...   577938   \n",
       "\n",
       "            subforum_id  num_contexts   label  sentence_length  \n",
       "file_id                                                         \n",
       "30430878_1         1359             0  noHate               17  \n",
       "30430878_2         1359             0  noHate               10  "
      ]
     },
     "execution_count": 28,
     "metadata": {},
     "output_type": "execute_result"
    }
   ],
   "source": [
    "# Select user data\n",
    "selected_user = int(fname.split('_')[0])\n",
    "user_annotations = annotations.query('user_id == @selected_user').copy()\n",
    "user_annotations['sentence_length'] = [len(x) for x in user_annotations.text.str.split()]\n",
    "user_annotations"
   ]
  },
  {
   "cell_type": "code",
   "execution_count": 29,
   "id": "08910659-792f-4397-9227-63de275e0ff4",
   "metadata": {},
   "outputs": [],
   "source": [
    "# Explode to tokens\n",
    "s = user_annotations.text.str.split().apply(pd.Series, 1).stack()\n",
    "s.index = s.index.droplevel(-1)\n",
    "s.name = 'original_token'\n",
    "del user_annotations['text']\n",
    "merged = user_annotations.join(s)\n",
    "token_annotations = merged.reset_index()\n",
    "token_annotations"
   ]
  },
  {
   "cell_type": "code",
   "execution_count": 30,
   "id": "08929f51-ec74-4e93-9609-10fc29253861",
   "metadata": {
    "tags": []
   },
   "outputs": [
    {
     "data": {
      "text/html": [
       "<div>\n",
       "<style scoped>\n",
       "    .dataframe tbody tr th:only-of-type {\n",
       "        vertical-align: middle;\n",
       "    }\n",
       "\n",
       "    .dataframe tbody tr th {\n",
       "        vertical-align: top;\n",
       "    }\n",
       "\n",
       "    .dataframe thead th {\n",
       "        text-align: right;\n",
       "    }\n",
       "</style>\n",
       "<table border=\"1\" class=\"dataframe\">\n",
       "  <thead>\n",
       "    <tr style=\"text-align: right;\">\n",
       "      <th></th>\n",
       "      <th>file_id</th>\n",
       "      <th>comment_id</th>\n",
       "      <th>sentence_id</th>\n",
       "      <th>user_id</th>\n",
       "      <th>subforum_id</th>\n",
       "      <th>num_contexts</th>\n",
       "      <th>label</th>\n",
       "      <th>sentence_length</th>\n",
       "      <th>original_token</th>\n",
       "      <th>lowercased_token</th>\n",
       "      <th>whitespace_after</th>\n",
       "      <th>lat</th>\n",
       "      <th>pattern_position</th>\n",
       "    </tr>\n",
       "  </thead>\n",
       "  <tbody>\n",
       "    <tr>\n",
       "      <th>0</th>\n",
       "      <td>30430878_1</td>\n",
       "      <td>30430878</td>\n",
       "      <td>1</td>\n",
       "      <td>577938</td>\n",
       "      <td>1359</td>\n",
       "      <td>0</td>\n",
       "      <td>noHate</td>\n",
       "      <td>17</td>\n",
       "      <td>GLORY</td>\n",
       "      <td>glory</td>\n",
       "      <td>s</td>\n",
       "      <td>PositiveValuesDimensionGeneral_LAT</td>\n",
       "      <td>0</td>\n",
       "    </tr>\n",
       "    <tr>\n",
       "      <th>1</th>\n",
       "      <td>30430878_1</td>\n",
       "      <td>30430878</td>\n",
       "      <td>1</td>\n",
       "      <td>577938</td>\n",
       "      <td>1359</td>\n",
       "      <td>0</td>\n",
       "      <td>noHate</td>\n",
       "      <td>17</td>\n",
       "      <td>To</td>\n",
       "      <td>to</td>\n",
       "      <td>s</td>\n",
       "      <td>PositiveRelationsInclusive_LAT</td>\n",
       "      <td>0</td>\n",
       "    </tr>\n",
       "    <tr>\n",
       "      <th>2</th>\n",
       "      <td>30430878_1</td>\n",
       "      <td>30430878</td>\n",
       "      <td>1</td>\n",
       "      <td>577938</td>\n",
       "      <td>1359</td>\n",
       "      <td>0</td>\n",
       "      <td>noHate</td>\n",
       "      <td>17</td>\n",
       "      <td>our</td>\n",
       "      <td>our</td>\n",
       "      <td>s</td>\n",
       "      <td>PositiveRelationsInclusive_LAT</td>\n",
       "      <td>1</td>\n",
       "    </tr>\n",
       "    <tr>\n",
       "      <th>3</th>\n",
       "      <td>30430878_1</td>\n",
       "      <td>30430878</td>\n",
       "      <td>1</td>\n",
       "      <td>577938</td>\n",
       "      <td>1359</td>\n",
       "      <td>0</td>\n",
       "      <td>noHate</td>\n",
       "      <td>17</td>\n",
       "      <td>British</td>\n",
       "      <td>british</td>\n",
       "      <td>s</td>\n",
       "      <td>CharacterTypesDimensionGeneral_LAT</td>\n",
       "      <td>0</td>\n",
       "    </tr>\n",
       "    <tr>\n",
       "      <th>4</th>\n",
       "      <td>30430878_1</td>\n",
       "      <td>30430878</td>\n",
       "      <td>1</td>\n",
       "      <td>577938</td>\n",
       "      <td>1359</td>\n",
       "      <td>0</td>\n",
       "      <td>noHate</td>\n",
       "      <td>17</td>\n",
       "      <td>Activist</td>\n",
       "      <td>activist</td>\n",
       "      <td>s</td>\n",
       "      <td>StrategicActivismDimensionGeneral_LAT</td>\n",
       "      <td>0</td>\n",
       "    </tr>\n",
       "    <tr>\n",
       "      <th>5</th>\n",
       "      <td>30430878_1</td>\n",
       "      <td>30430878</td>\n",
       "      <td>1</td>\n",
       "      <td>577938</td>\n",
       "      <td>1359</td>\n",
       "      <td>0</td>\n",
       "      <td>noHate</td>\n",
       "      <td>17</td>\n",
       "      <td>&amp;</td>\n",
       "      <td>&amp;</td>\n",
       "      <td>s</td>\n",
       "      <td>NaN</td>\n",
       "      <td>0</td>\n",
       "    </tr>\n",
       "    <tr>\n",
       "      <th>6</th>\n",
       "      <td>30430878_1</td>\n",
       "      <td>30430878</td>\n",
       "      <td>1</td>\n",
       "      <td>577938</td>\n",
       "      <td>1359</td>\n",
       "      <td>0</td>\n",
       "      <td>noHate</td>\n",
       "      <td>17</td>\n",
       "      <td>Nationalist</td>\n",
       "      <td>nationalist</td>\n",
       "      <td>s</td>\n",
       "      <td>PublicDimensionGeneral_LAT</td>\n",
       "      <td>0</td>\n",
       "    </tr>\n",
       "    <tr>\n",
       "      <th>7</th>\n",
       "      <td>30430878_1</td>\n",
       "      <td>30430878</td>\n",
       "      <td>1</td>\n",
       "      <td>577938</td>\n",
       "      <td>1359</td>\n",
       "      <td>0</td>\n",
       "      <td>noHate</td>\n",
       "      <td>17</td>\n",
       "      <td>!</td>\n",
       "      <td>!</td>\n",
       "      <td>s</td>\n",
       "      <td>ForceDimensionGeneral_LAT</td>\n",
       "      <td>0</td>\n",
       "    </tr>\n",
       "    <tr>\n",
       "      <th>8</th>\n",
       "      <td>30430878_1</td>\n",
       "      <td>30430878</td>\n",
       "      <td>1</td>\n",
       "      <td>577938</td>\n",
       "      <td>1359</td>\n",
       "      <td>0</td>\n",
       "      <td>noHate</td>\n",
       "      <td>17</td>\n",
       "      <td>Good</td>\n",
       "      <td>good</td>\n",
       "      <td>s</td>\n",
       "      <td>PositiveEmotionGood_LAT</td>\n",
       "      <td>0</td>\n",
       "    </tr>\n",
       "    <tr>\n",
       "      <th>9</th>\n",
       "      <td>30430878_1</td>\n",
       "      <td>30430878</td>\n",
       "      <td>1</td>\n",
       "      <td>577938</td>\n",
       "      <td>1359</td>\n",
       "      <td>0</td>\n",
       "      <td>noHate</td>\n",
       "      <td>17</td>\n",
       "      <td>To</td>\n",
       "      <td>to</td>\n",
       "      <td>s</td>\n",
       "      <td>PositiveEmotionGood_LAT</td>\n",
       "      <td>1</td>\n",
       "    </tr>\n",
       "    <tr>\n",
       "      <th>10</th>\n",
       "      <td>30430878_1</td>\n",
       "      <td>30430878</td>\n",
       "      <td>1</td>\n",
       "      <td>577938</td>\n",
       "      <td>1359</td>\n",
       "      <td>0</td>\n",
       "      <td>noHate</td>\n",
       "      <td>17</td>\n",
       "      <td>to</td>\n",
       "      <td>to</td>\n",
       "      <td>s</td>\n",
       "      <td>StrategicGoalsDimensionGeneral_LAT</td>\n",
       "      <td>0</td>\n",
       "    </tr>\n",
       "    <tr>\n",
       "      <th>11</th>\n",
       "      <td>30430878_1</td>\n",
       "      <td>30430878</td>\n",
       "      <td>1</td>\n",
       "      <td>577938</td>\n",
       "      <td>1359</td>\n",
       "      <td>0</td>\n",
       "      <td>noHate</td>\n",
       "      <td>17</td>\n",
       "      <td>See</td>\n",
       "      <td>see</td>\n",
       "      <td>s</td>\n",
       "      <td>StrategicGoalsDimensionGeneral_LAT</td>\n",
       "      <td>1</td>\n",
       "    </tr>\n",
       "    <tr>\n",
       "      <th>12</th>\n",
       "      <td>30430878_1</td>\n",
       "      <td>30430878</td>\n",
       "      <td>1</td>\n",
       "      <td>577938</td>\n",
       "      <td>1359</td>\n",
       "      <td>0</td>\n",
       "      <td>noHate</td>\n",
       "      <td>17</td>\n",
       "      <td>the</td>\n",
       "      <td>the</td>\n",
       "      <td>s</td>\n",
       "      <td>OrphanedDimensionGeneral_LAT</td>\n",
       "      <td>0</td>\n",
       "    </tr>\n",
       "    <tr>\n",
       "      <th>13</th>\n",
       "      <td>30430878_1</td>\n",
       "      <td>30430878</td>\n",
       "      <td>1</td>\n",
       "      <td>577938</td>\n",
       "      <td>1359</td>\n",
       "      <td>0</td>\n",
       "      <td>noHate</td>\n",
       "      <td>17</td>\n",
       "      <td>Poles</td>\n",
       "      <td>poles</td>\n",
       "      <td>s</td>\n",
       "      <td>DescriptObjectsDimensionGeneralWarehouseAThruZ...</td>\n",
       "      <td>0</td>\n",
       "    </tr>\n",
       "    <tr>\n",
       "      <th>14</th>\n",
       "      <td>30430878_1</td>\n",
       "      <td>30430878</td>\n",
       "      <td>1</td>\n",
       "      <td>577938</td>\n",
       "      <td>1359</td>\n",
       "      <td>0</td>\n",
       "      <td>noHate</td>\n",
       "      <td>17</td>\n",
       "      <td>Help</td>\n",
       "      <td>help</td>\n",
       "      <td>s</td>\n",
       "      <td>PositiveActHelp_LAT</td>\n",
       "      <td>0</td>\n",
       "    </tr>\n",
       "    <tr>\n",
       "      <th>15</th>\n",
       "      <td>30430878_1</td>\n",
       "      <td>30430878</td>\n",
       "      <td>1</td>\n",
       "      <td>577938</td>\n",
       "      <td>1359</td>\n",
       "      <td>0</td>\n",
       "      <td>noHate</td>\n",
       "      <td>17</td>\n",
       "      <td>Out</td>\n",
       "      <td>out</td>\n",
       "      <td>s</td>\n",
       "      <td>PositiveActHelp_LAT</td>\n",
       "      <td>1</td>\n",
       "    </tr>\n",
       "    <tr>\n",
       "      <th>16</th>\n",
       "      <td>30430878_1</td>\n",
       "      <td>30430878</td>\n",
       "      <td>1</td>\n",
       "      <td>577938</td>\n",
       "      <td>1359</td>\n",
       "      <td>0</td>\n",
       "      <td>noHate</td>\n",
       "      <td>17</td>\n",
       "      <td>!!</td>\n",
       "      <td>!</td>\n",
       "      <td>s</td>\n",
       "      <td>ForceDimensionGeneral_LAT</td>\n",
       "      <td>0</td>\n",
       "    </tr>\n",
       "    <tr>\n",
       "      <th>17</th>\n",
       "      <td>30430878_2</td>\n",
       "      <td>30430878</td>\n",
       "      <td>2</td>\n",
       "      <td>577938</td>\n",
       "      <td>1359</td>\n",
       "      <td>0</td>\n",
       "      <td>noHate</td>\n",
       "      <td>10</td>\n",
       "      <td>Glory</td>\n",
       "      <td>glory</td>\n",
       "      <td>s</td>\n",
       "      <td>PositiveValuesDimensionGeneral_LAT</td>\n",
       "      <td>0</td>\n",
       "    </tr>\n",
       "    <tr>\n",
       "      <th>18</th>\n",
       "      <td>30430878_2</td>\n",
       "      <td>30430878</td>\n",
       "      <td>2</td>\n",
       "      <td>577938</td>\n",
       "      <td>1359</td>\n",
       "      <td>0</td>\n",
       "      <td>noHate</td>\n",
       "      <td>10</td>\n",
       "      <td>To</td>\n",
       "      <td>to</td>\n",
       "      <td>s</td>\n",
       "      <td>ReasonGenericGeneralize_LAT</td>\n",
       "      <td>0</td>\n",
       "    </tr>\n",
       "    <tr>\n",
       "      <th>19</th>\n",
       "      <td>30430878_2</td>\n",
       "      <td>30430878</td>\n",
       "      <td>2</td>\n",
       "      <td>577938</td>\n",
       "      <td>1359</td>\n",
       "      <td>0</td>\n",
       "      <td>noHate</td>\n",
       "      <td>10</td>\n",
       "      <td>all</td>\n",
       "      <td>all</td>\n",
       "      <td>s</td>\n",
       "      <td>ReasonGenericGeneralize_LAT</td>\n",
       "      <td>1</td>\n",
       "    </tr>\n",
       "    <tr>\n",
       "      <th>20</th>\n",
       "      <td>30430878_2</td>\n",
       "      <td>30430878</td>\n",
       "      <td>2</td>\n",
       "      <td>577938</td>\n",
       "      <td>1359</td>\n",
       "      <td>0</td>\n",
       "      <td>noHate</td>\n",
       "      <td>10</td>\n",
       "      <td>our</td>\n",
       "      <td>our</td>\n",
       "      <td>s</td>\n",
       "      <td>PositiveRelationsInclusive_LAT</td>\n",
       "      <td>0</td>\n",
       "    </tr>\n",
       "    <tr>\n",
       "      <th>21</th>\n",
       "      <td>30430878_2</td>\n",
       "      <td>30430878</td>\n",
       "      <td>2</td>\n",
       "      <td>577938</td>\n",
       "      <td>1359</td>\n",
       "      <td>0</td>\n",
       "      <td>noHate</td>\n",
       "      <td>10</td>\n",
       "      <td>Valiant</td>\n",
       "      <td>valiant</td>\n",
       "      <td>s</td>\n",
       "      <td>PositiveValuesStrong_LAT</td>\n",
       "      <td>0</td>\n",
       "    </tr>\n",
       "    <tr>\n",
       "      <th>22</th>\n",
       "      <td>30430878_2</td>\n",
       "      <td>30430878</td>\n",
       "      <td>2</td>\n",
       "      <td>577938</td>\n",
       "      <td>1359</td>\n",
       "      <td>0</td>\n",
       "      <td>noHate</td>\n",
       "      <td>10</td>\n",
       "      <td>British</td>\n",
       "      <td>british</td>\n",
       "      <td>s</td>\n",
       "      <td>CharacterTypesDimensionGeneral_LAT</td>\n",
       "      <td>0</td>\n",
       "    </tr>\n",
       "    <tr>\n",
       "      <th>23</th>\n",
       "      <td>30430878_2</td>\n",
       "      <td>30430878</td>\n",
       "      <td>2</td>\n",
       "      <td>577938</td>\n",
       "      <td>1359</td>\n",
       "      <td>0</td>\n",
       "      <td>noHate</td>\n",
       "      <td>10</td>\n",
       "      <td>Brothers</td>\n",
       "      <td>brothers</td>\n",
       "      <td>s</td>\n",
       "      <td>CharacterTypesDimensionGeneral_LAT</td>\n",
       "      <td>0</td>\n",
       "    </tr>\n",
       "    <tr>\n",
       "      <th>24</th>\n",
       "      <td>30430878_2</td>\n",
       "      <td>30430878</td>\n",
       "      <td>2</td>\n",
       "      <td>577938</td>\n",
       "      <td>1359</td>\n",
       "      <td>0</td>\n",
       "      <td>noHate</td>\n",
       "      <td>10</td>\n",
       "      <td>&amp;</td>\n",
       "      <td>&amp;</td>\n",
       "      <td>s</td>\n",
       "      <td>NaN</td>\n",
       "      <td>0</td>\n",
       "    </tr>\n",
       "    <tr>\n",
       "      <th>25</th>\n",
       "      <td>30430878_2</td>\n",
       "      <td>30430878</td>\n",
       "      <td>2</td>\n",
       "      <td>577938</td>\n",
       "      <td>1359</td>\n",
       "      <td>0</td>\n",
       "      <td>noHate</td>\n",
       "      <td>10</td>\n",
       "      <td>Sisters</td>\n",
       "      <td>sisters</td>\n",
       "      <td>s</td>\n",
       "      <td>CharacterTypesDimensionGeneral_LAT</td>\n",
       "      <td>0</td>\n",
       "    </tr>\n",
       "    <tr>\n",
       "      <th>26</th>\n",
       "      <td>30430878_2</td>\n",
       "      <td>30430878</td>\n",
       "      <td>2</td>\n",
       "      <td>577938</td>\n",
       "      <td>1359</td>\n",
       "      <td>0</td>\n",
       "      <td>noHate</td>\n",
       "      <td>10</td>\n",
       "      <td>!</td>\n",
       "      <td>!</td>\n",
       "      <td>e</td>\n",
       "      <td>ForceDimensionGeneral_LAT</td>\n",
       "      <td>0</td>\n",
       "    </tr>\n",
       "  </tbody>\n",
       "</table>\n",
       "</div>"
      ],
      "text/plain": [
       "       file_id  comment_id  sentence_id  user_id  subforum_id  num_contexts  \\\n",
       "0   30430878_1    30430878            1   577938         1359             0   \n",
       "1   30430878_1    30430878            1   577938         1359             0   \n",
       "2   30430878_1    30430878            1   577938         1359             0   \n",
       "3   30430878_1    30430878            1   577938         1359             0   \n",
       "4   30430878_1    30430878            1   577938         1359             0   \n",
       "5   30430878_1    30430878            1   577938         1359             0   \n",
       "6   30430878_1    30430878            1   577938         1359             0   \n",
       "7   30430878_1    30430878            1   577938         1359             0   \n",
       "8   30430878_1    30430878            1   577938         1359             0   \n",
       "9   30430878_1    30430878            1   577938         1359             0   \n",
       "10  30430878_1    30430878            1   577938         1359             0   \n",
       "11  30430878_1    30430878            1   577938         1359             0   \n",
       "12  30430878_1    30430878            1   577938         1359             0   \n",
       "13  30430878_1    30430878            1   577938         1359             0   \n",
       "14  30430878_1    30430878            1   577938         1359             0   \n",
       "15  30430878_1    30430878            1   577938         1359             0   \n",
       "16  30430878_1    30430878            1   577938         1359             0   \n",
       "17  30430878_2    30430878            2   577938         1359             0   \n",
       "18  30430878_2    30430878            2   577938         1359             0   \n",
       "19  30430878_2    30430878            2   577938         1359             0   \n",
       "20  30430878_2    30430878            2   577938         1359             0   \n",
       "21  30430878_2    30430878            2   577938         1359             0   \n",
       "22  30430878_2    30430878            2   577938         1359             0   \n",
       "23  30430878_2    30430878            2   577938         1359             0   \n",
       "24  30430878_2    30430878            2   577938         1359             0   \n",
       "25  30430878_2    30430878            2   577938         1359             0   \n",
       "26  30430878_2    30430878            2   577938         1359             0   \n",
       "\n",
       "     label  sentence_length original_token lowercased_token whitespace_after  \\\n",
       "0   noHate               17          GLORY            glory                s   \n",
       "1   noHate               17             To               to                s   \n",
       "2   noHate               17            our              our                s   \n",
       "3   noHate               17        British          british                s   \n",
       "4   noHate               17       Activist         activist                s   \n",
       "5   noHate               17              &                &                s   \n",
       "6   noHate               17    Nationalist      nationalist                s   \n",
       "7   noHate               17              !                !                s   \n",
       "8   noHate               17           Good             good                s   \n",
       "9   noHate               17             To               to                s   \n",
       "10  noHate               17             to               to                s   \n",
       "11  noHate               17            See              see                s   \n",
       "12  noHate               17            the              the                s   \n",
       "13  noHate               17          Poles            poles                s   \n",
       "14  noHate               17           Help             help                s   \n",
       "15  noHate               17            Out              out                s   \n",
       "16  noHate               17             !!                !                s   \n",
       "17  noHate               10          Glory            glory                s   \n",
       "18  noHate               10             To               to                s   \n",
       "19  noHate               10            all              all                s   \n",
       "20  noHate               10            our              our                s   \n",
       "21  noHate               10        Valiant          valiant                s   \n",
       "22  noHate               10        British          british                s   \n",
       "23  noHate               10       Brothers         brothers                s   \n",
       "24  noHate               10              &                &                s   \n",
       "25  noHate               10        Sisters          sisters                s   \n",
       "26  noHate               10              !                !                e   \n",
       "\n",
       "                                                  lat  pattern_position  \n",
       "0                  PositiveValuesDimensionGeneral_LAT                 0  \n",
       "1                      PositiveRelationsInclusive_LAT                 0  \n",
       "2                      PositiveRelationsInclusive_LAT                 1  \n",
       "3                  CharacterTypesDimensionGeneral_LAT                 0  \n",
       "4               StrategicActivismDimensionGeneral_LAT                 0  \n",
       "5                                                 NaN                 0  \n",
       "6                          PublicDimensionGeneral_LAT                 0  \n",
       "7                           ForceDimensionGeneral_LAT                 0  \n",
       "8                             PositiveEmotionGood_LAT                 0  \n",
       "9                             PositiveEmotionGood_LAT                 1  \n",
       "10                 StrategicGoalsDimensionGeneral_LAT                 0  \n",
       "11                 StrategicGoalsDimensionGeneral_LAT                 1  \n",
       "12                       OrphanedDimensionGeneral_LAT                 0  \n",
       "13  DescriptObjectsDimensionGeneralWarehouseAThruZ...                 0  \n",
       "14                                PositiveActHelp_LAT                 0  \n",
       "15                                PositiveActHelp_LAT                 1  \n",
       "16                          ForceDimensionGeneral_LAT                 0  \n",
       "17                 PositiveValuesDimensionGeneral_LAT                 0  \n",
       "18                        ReasonGenericGeneralize_LAT                 0  \n",
       "19                        ReasonGenericGeneralize_LAT                 1  \n",
       "20                     PositiveRelationsInclusive_LAT                 0  \n",
       "21                           PositiveValuesStrong_LAT                 0  \n",
       "22                 CharacterTypesDimensionGeneral_LAT                 0  \n",
       "23                 CharacterTypesDimensionGeneral_LAT                 0  \n",
       "24                                                NaN                 0  \n",
       "25                 CharacterTypesDimensionGeneral_LAT                 0  \n",
       "26                          ForceDimensionGeneral_LAT                 0  "
      ]
     },
     "execution_count": 30,
     "metadata": {},
     "output_type": "execute_result"
    }
   ],
   "source": [
    "token_data = pd.concat([token_annotations, tokens], axis=1)\n",
    "token_data = token_data.loc[:, ~token_data.columns.duplicated()]\n",
    "token_data"
   ]
  },
  {
   "cell_type": "markdown",
   "id": "95ec8f66-ae7c-4554-bb3b-46b4bf8d22b6",
   "metadata": {
    "jp-MarkdownHeadingCollapsed": true,
    "tags": []
   },
   "source": [
    "## Get cluster counts per sentence\n",
    "Wait, but token CSVs just have LATs, not clusters"
   ]
  },
  {
   "cell_type": "code",
   "execution_count": 31,
   "id": "c8be27af-3b70-49bd-a88d-f4537040e8e7",
   "metadata": {},
   "outputs": [
    {
     "data": {
      "text/html": [
       "<div>\n",
       "<style scoped>\n",
       "    .dataframe tbody tr th:only-of-type {\n",
       "        vertical-align: middle;\n",
       "    }\n",
       "\n",
       "    .dataframe tbody tr th {\n",
       "        vertical-align: top;\n",
       "    }\n",
       "\n",
       "    .dataframe thead tr th {\n",
       "        text-align: left;\n",
       "    }\n",
       "\n",
       "    .dataframe thead tr:last-of-type th {\n",
       "        text-align: right;\n",
       "    }\n",
       "</style>\n",
       "<table border=\"1\" class=\"dataframe\">\n",
       "  <thead>\n",
       "    <tr>\n",
       "      <th></th>\n",
       "      <th colspan=\"10\" halign=\"left\">comment_id</th>\n",
       "      <th>...</th>\n",
       "      <th colspan=\"10\" halign=\"left\">user_id</th>\n",
       "    </tr>\n",
       "    <tr>\n",
       "      <th>lat</th>\n",
       "      <th>CharacterTypesDimensionGeneral_LAT</th>\n",
       "      <th>DescriptObjectsDimensionGeneralWarehouseAThruZ_LAT</th>\n",
       "      <th>ForceDimensionGeneral_LAT</th>\n",
       "      <th>OrphanedDimensionGeneral_LAT</th>\n",
       "      <th>PositiveActHelp_LAT</th>\n",
       "      <th>PositiveEmotionGood_LAT</th>\n",
       "      <th>PositiveRelationsInclusive_LAT</th>\n",
       "      <th>PositiveValuesDimensionGeneral_LAT</th>\n",
       "      <th>PositiveValuesStrong_LAT</th>\n",
       "      <th>PublicDimensionGeneral_LAT</th>\n",
       "      <th>...</th>\n",
       "      <th>OrphanedDimensionGeneral_LAT</th>\n",
       "      <th>PositiveActHelp_LAT</th>\n",
       "      <th>PositiveEmotionGood_LAT</th>\n",
       "      <th>PositiveRelationsInclusive_LAT</th>\n",
       "      <th>PositiveValuesDimensionGeneral_LAT</th>\n",
       "      <th>PositiveValuesStrong_LAT</th>\n",
       "      <th>PublicDimensionGeneral_LAT</th>\n",
       "      <th>ReasonGenericGeneralize_LAT</th>\n",
       "      <th>StrategicActivismDimensionGeneral_LAT</th>\n",
       "      <th>StrategicGoalsDimensionGeneral_LAT</th>\n",
       "    </tr>\n",
       "    <tr>\n",
       "      <th>file_id</th>\n",
       "      <th></th>\n",
       "      <th></th>\n",
       "      <th></th>\n",
       "      <th></th>\n",
       "      <th></th>\n",
       "      <th></th>\n",
       "      <th></th>\n",
       "      <th></th>\n",
       "      <th></th>\n",
       "      <th></th>\n",
       "      <th></th>\n",
       "      <th></th>\n",
       "      <th></th>\n",
       "      <th></th>\n",
       "      <th></th>\n",
       "      <th></th>\n",
       "      <th></th>\n",
       "      <th></th>\n",
       "      <th></th>\n",
       "      <th></th>\n",
       "      <th></th>\n",
       "    </tr>\n",
       "  </thead>\n",
       "  <tbody>\n",
       "    <tr>\n",
       "      <th>30430878_1</th>\n",
       "      <td>30430878.0</td>\n",
       "      <td>30430878.0</td>\n",
       "      <td>30430878.0</td>\n",
       "      <td>30430878.0</td>\n",
       "      <td>30430878.0</td>\n",
       "      <td>30430878.0</td>\n",
       "      <td>30430878.0</td>\n",
       "      <td>30430878.0</td>\n",
       "      <td>NaN</td>\n",
       "      <td>30430878.0</td>\n",
       "      <td>...</td>\n",
       "      <td>577938.0</td>\n",
       "      <td>577938.0</td>\n",
       "      <td>577938.0</td>\n",
       "      <td>577938.0</td>\n",
       "      <td>577938.0</td>\n",
       "      <td>NaN</td>\n",
       "      <td>577938.0</td>\n",
       "      <td>NaN</td>\n",
       "      <td>577938.0</td>\n",
       "      <td>577938.0</td>\n",
       "    </tr>\n",
       "    <tr>\n",
       "      <th>30430878_2</th>\n",
       "      <td>30430878.0</td>\n",
       "      <td>NaN</td>\n",
       "      <td>30430878.0</td>\n",
       "      <td>NaN</td>\n",
       "      <td>NaN</td>\n",
       "      <td>NaN</td>\n",
       "      <td>30430878.0</td>\n",
       "      <td>30430878.0</td>\n",
       "      <td>30430878.0</td>\n",
       "      <td>NaN</td>\n",
       "      <td>...</td>\n",
       "      <td>NaN</td>\n",
       "      <td>NaN</td>\n",
       "      <td>NaN</td>\n",
       "      <td>577938.0</td>\n",
       "      <td>577938.0</td>\n",
       "      <td>577938.0</td>\n",
       "      <td>NaN</td>\n",
       "      <td>577938.0</td>\n",
       "      <td>NaN</td>\n",
       "      <td>NaN</td>\n",
       "    </tr>\n",
       "  </tbody>\n",
       "</table>\n",
       "<p>2 rows × 91 columns</p>\n",
       "</div>"
      ],
      "text/plain": [
       "                                   comment_id  \\\n",
       "lat        CharacterTypesDimensionGeneral_LAT   \n",
       "file_id                                         \n",
       "30430878_1                         30430878.0   \n",
       "30430878_2                         30430878.0   \n",
       "\n",
       "                                                               \\\n",
       "lat        DescriptObjectsDimensionGeneralWarehouseAThruZ_LAT   \n",
       "file_id                                                         \n",
       "30430878_1                                         30430878.0   \n",
       "30430878_2                                                NaN   \n",
       "\n",
       "                                                                   \\\n",
       "lat        ForceDimensionGeneral_LAT OrphanedDimensionGeneral_LAT   \n",
       "file_id                                                             \n",
       "30430878_1                30430878.0                   30430878.0   \n",
       "30430878_2                30430878.0                          NaN   \n",
       "\n",
       "                                                        \\\n",
       "lat        PositiveActHelp_LAT PositiveEmotionGood_LAT   \n",
       "file_id                                                  \n",
       "30430878_1          30430878.0              30430878.0   \n",
       "30430878_2                 NaN                     NaN   \n",
       "\n",
       "                                                                              \\\n",
       "lat        PositiveRelationsInclusive_LAT PositiveValuesDimensionGeneral_LAT   \n",
       "file_id                                                                        \n",
       "30430878_1                     30430878.0                         30430878.0   \n",
       "30430878_2                     30430878.0                         30430878.0   \n",
       "\n",
       "                                                                ...  \\\n",
       "lat        PositiveValuesStrong_LAT PublicDimensionGeneral_LAT  ...   \n",
       "file_id                                                         ...   \n",
       "30430878_1                      NaN                 30430878.0  ...   \n",
       "30430878_2               30430878.0                        NaN  ...   \n",
       "\n",
       "                                user_id                      \\\n",
       "lat        OrphanedDimensionGeneral_LAT PositiveActHelp_LAT   \n",
       "file_id                                                       \n",
       "30430878_1                     577938.0            577938.0   \n",
       "30430878_2                          NaN                 NaN   \n",
       "\n",
       "                                                                   \\\n",
       "lat        PositiveEmotionGood_LAT PositiveRelationsInclusive_LAT   \n",
       "file_id                                                             \n",
       "30430878_1                577938.0                       577938.0   \n",
       "30430878_2                     NaN                       577938.0   \n",
       "\n",
       "                                                                        \\\n",
       "lat        PositiveValuesDimensionGeneral_LAT PositiveValuesStrong_LAT   \n",
       "file_id                                                                  \n",
       "30430878_1                           577938.0                      NaN   \n",
       "30430878_2                           577938.0                 577938.0   \n",
       "\n",
       "                                                                   \\\n",
       "lat        PublicDimensionGeneral_LAT ReasonGenericGeneralize_LAT   \n",
       "file_id                                                             \n",
       "30430878_1                   577938.0                         NaN   \n",
       "30430878_2                        NaN                    577938.0   \n",
       "\n",
       "                                                  \\\n",
       "lat        StrategicActivismDimensionGeneral_LAT   \n",
       "file_id                                            \n",
       "30430878_1                              577938.0   \n",
       "30430878_2                                   NaN   \n",
       "\n",
       "                                               \n",
       "lat        StrategicGoalsDimensionGeneral_LAT  \n",
       "file_id                                        \n",
       "30430878_1                           577938.0  \n",
       "30430878_2                                NaN  \n",
       "\n",
       "[2 rows x 91 columns]"
      ]
     },
     "execution_count": 31,
     "metadata": {},
     "output_type": "execute_result"
    }
   ],
   "source": [
    "# Remove multiword labels (just count them once)\n",
    "processed = token_data.query('pattern_position == 0')\n",
    "\n",
    "# Get dummy variables for each column value\n",
    "processed.pivot_table(index=['file_id'], columns=['lat'])"
   ]
  }
 ],
 "metadata": {
  "kernelspec": {
   "display_name": "Python 3 (ipykernel)",
   "language": "python",
   "name": "python3"
  },
  "language_info": {
   "codemirror_mode": {
    "name": "ipython",
    "version": 3
   },
   "file_extension": ".py",
   "mimetype": "text/x-python",
   "name": "python",
   "nbconvert_exporter": "python",
   "pygments_lexer": "ipython3",
   "version": "3.9.10"
  }
 },
 "nbformat": 4,
 "nbformat_minor": 5
}
